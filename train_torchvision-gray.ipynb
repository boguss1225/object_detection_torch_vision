{
 "cells": [
  {
   "cell_type": "markdown",
   "id": "80d18665-22a6-4507-9c78-d98066a57746",
   "metadata": {},
   "source": [
    "## The command to copy data from blob to compute\n",
    "\n",
    "az storage blob directory download -c am100-data --destination-path \".\" --source-path \"proto_1\" --account-name aq1ds2storage --recursive"
   ]
  },
  {
   "cell_type": "code",
   "execution_count": 1,
   "id": "8d0cb665-6337-427b-96cb-b0f309637532",
   "metadata": {
    "gather": {
     "logged": 1703031280423
    },
    "tags": []
   },
   "outputs": [],
   "source": [
    "# %pip install opencv-python albumentations pycocotools"
   ]
  },
  {
   "cell_type": "code",
   "execution_count": 1,
   "id": "9d45a228",
   "metadata": {
    "gather": {
     "logged": 1703031282736
    },
    "tags": []
   },
   "outputs": [
    {
     "name": "stderr",
     "output_type": "stream",
     "text": [
      "/anaconda/envs/azureml_py38_PT_TF/lib/python3.8/site-packages/tqdm/auto.py:21: TqdmWarning: IProgress not found. Please update jupyter and ipywidgets. See https://ipywidgets.readthedocs.io/en/stable/user_install.html\n",
      "  from .autonotebook import tqdm as notebook_tqdm\n"
     ]
    }
   ],
   "source": [
    "import os\n",
    "import torch\n",
    "import torchvision\n",
    "import numpy as np\n",
    "import pandas as pd\n",
    "import cv2\n",
    "import albumentations as A\n",
    "import matplotlib.pyplot as plt\n",
    "from albumentations.pytorch.transforms import ToTensorV2\n",
    "from utils.engine import train_one_epoch, evaluate"
   ]
  },
  {
   "cell_type": "markdown",
   "id": "ea9f1b98",
   "metadata": {},
   "source": [
    "## Configure Path"
   ]
  },
  {
   "cell_type": "code",
   "execution_count": 31,
   "id": "6dca91c9-2da0-4782-a2dd-11d81cbbe190",
   "metadata": {
    "collapsed": false,
    "gather": {
     "logged": 1703031282899
    },
    "jupyter": {
     "outputs_hidden": false,
     "source_hidden": false
    },
    "nteract": {
     "transient": {
      "deleting": false
     }
    }
   },
   "outputs": [],
   "source": [
    "os.environ[\"CUDA_VISIBLE_DEVICES\"]=\"0\"\n",
    "\n",
    "DATABASE_BASE = \"../database/proto_1/\"\n",
    "train_csv_path = DATABASE_BASE + \"train.csv\"\n",
    "test_csv_path = DATABASE_BASE + \"val.csv\"\n",
    "train_image_path = DATABASE_BASE + \"train\"\n",
    "test_image_path = DATABASE_BASE + \"val\"\n",
    "model_save_path = \"trained_model/gray_proto_1/\"\n",
    "model_save_name = model_save_path + \"rcnn_b2lr001m8\"\n",
    "pretrained_model = \"trained_model/gray_proto_1/fasterrcnn_resnet50_fpn_4ep_best.pt\""
   ]
  },
  {
   "cell_type": "markdown",
   "id": "31f36268",
   "metadata": {},
   "source": [
    "## Check data"
   ]
  },
  {
   "cell_type": "code",
   "execution_count": 32,
   "id": "9aacd110",
   "metadata": {
    "gather": {
     "logged": 1703031283085
    },
    "tags": []
   },
   "outputs": [
    {
     "name": "stdout",
     "output_type": "stream",
     "text": [
      "(3046, 8)\n"
     ]
    },
    {
     "data": {
      "text/html": [
       "<div>\n",
       "<style scoped>\n",
       "    .dataframe tbody tr th:only-of-type {\n",
       "        vertical-align: middle;\n",
       "    }\n",
       "\n",
       "    .dataframe tbody tr th {\n",
       "        vertical-align: top;\n",
       "    }\n",
       "\n",
       "    .dataframe thead th {\n",
       "        text-align: right;\n",
       "    }\n",
       "</style>\n",
       "<table border=\"1\" class=\"dataframe\">\n",
       "  <thead>\n",
       "    <tr style=\"text-align: right;\">\n",
       "      <th></th>\n",
       "      <th>filename</th>\n",
       "      <th>width</th>\n",
       "      <th>height</th>\n",
       "      <th>class</th>\n",
       "      <th>xmin</th>\n",
       "      <th>ymin</th>\n",
       "      <th>xmax</th>\n",
       "      <th>ymax</th>\n",
       "    </tr>\n",
       "  </thead>\n",
       "  <tbody>\n",
       "    <tr>\n",
       "      <th>0</th>\n",
       "      <td>20210603_104900992_220307_MLT-2021-AUT-CG-001-...</td>\n",
       "      <td>1360</td>\n",
       "      <td>1024</td>\n",
       "      <td>tuna_whole</td>\n",
       "      <td>446</td>\n",
       "      <td>0</td>\n",
       "      <td>646</td>\n",
       "      <td>223</td>\n",
       "    </tr>\n",
       "    <tr>\n",
       "      <th>1</th>\n",
       "      <td>20210603_104900992_220307_MLT-2021-AUT-CG-001-...</td>\n",
       "      <td>1360</td>\n",
       "      <td>1024</td>\n",
       "      <td>tuna_whole</td>\n",
       "      <td>627</td>\n",
       "      <td>204</td>\n",
       "      <td>776</td>\n",
       "      <td>609</td>\n",
       "    </tr>\n",
       "    <tr>\n",
       "      <th>2</th>\n",
       "      <td>20210603_104900992_220307_MLT-2021-AUT-CG-001-...</td>\n",
       "      <td>1360</td>\n",
       "      <td>1024</td>\n",
       "      <td>tuna_whole</td>\n",
       "      <td>473</td>\n",
       "      <td>391</td>\n",
       "      <td>636</td>\n",
       "      <td>778</td>\n",
       "    </tr>\n",
       "    <tr>\n",
       "      <th>3</th>\n",
       "      <td>20210603_104900992_220307_MLT-2021-AUT-CG-001-...</td>\n",
       "      <td>1360</td>\n",
       "      <td>1024</td>\n",
       "      <td>tuna_whole</td>\n",
       "      <td>583</td>\n",
       "      <td>653</td>\n",
       "      <td>716</td>\n",
       "      <td>902</td>\n",
       "    </tr>\n",
       "    <tr>\n",
       "      <th>4</th>\n",
       "      <td>20210603_104900992_220307_MLT-2021-AUT-CG-001-...</td>\n",
       "      <td>1360</td>\n",
       "      <td>1024</td>\n",
       "      <td>tuna_whole</td>\n",
       "      <td>477</td>\n",
       "      <td>975</td>\n",
       "      <td>564</td>\n",
       "      <td>1023</td>\n",
       "    </tr>\n",
       "  </tbody>\n",
       "</table>\n",
       "</div>"
      ],
      "text/plain": [
       "                                            filename  width  height  \\\n",
       "0  20210603_104900992_220307_MLT-2021-AUT-CG-001-...   1360    1024   \n",
       "1  20210603_104900992_220307_MLT-2021-AUT-CG-001-...   1360    1024   \n",
       "2  20210603_104900992_220307_MLT-2021-AUT-CG-001-...   1360    1024   \n",
       "3  20210603_104900992_220307_MLT-2021-AUT-CG-001-...   1360    1024   \n",
       "4  20210603_104900992_220307_MLT-2021-AUT-CG-001-...   1360    1024   \n",
       "\n",
       "        class  xmin  ymin  xmax  ymax  \n",
       "0  tuna_whole   446     0   646   223  \n",
       "1  tuna_whole   627   204   776   609  \n",
       "2  tuna_whole   473   391   636   778  \n",
       "3  tuna_whole   583   653   716   902  \n",
       "4  tuna_whole   477   975   564  1023  "
      ]
     },
     "execution_count": 32,
     "metadata": {},
     "output_type": "execute_result"
    }
   ],
   "source": [
    "train_csv = pd.read_csv(train_csv_path)\n",
    "print(train_csv.shape)\n",
    "train_csv.head()"
   ]
  },
  {
   "cell_type": "code",
   "execution_count": 33,
   "id": "eaa9b95c-2505-4166-b6c2-3cf85ac6a4fa",
   "metadata": {
    "gather": {
     "logged": 1703031283209
    },
    "tags": []
   },
   "outputs": [
    {
     "name": "stdout",
     "output_type": "stream",
     "text": [
      "265\n"
     ]
    }
   ],
   "source": [
    "filename_un = train_csv[\"filename\"].unique()\n",
    "print(len(filename_un))"
   ]
  },
  {
   "cell_type": "code",
   "execution_count": 34,
   "id": "ee1fda21",
   "metadata": {
    "gather": {
     "logged": 1703031283385
    },
    "tags": []
   },
   "outputs": [
    {
     "name": "stdout",
     "output_type": "stream",
     "text": [
      "(605, 8)\n"
     ]
    },
    {
     "data": {
      "text/html": [
       "<div>\n",
       "<style scoped>\n",
       "    .dataframe tbody tr th:only-of-type {\n",
       "        vertical-align: middle;\n",
       "    }\n",
       "\n",
       "    .dataframe tbody tr th {\n",
       "        vertical-align: top;\n",
       "    }\n",
       "\n",
       "    .dataframe thead th {\n",
       "        text-align: right;\n",
       "    }\n",
       "</style>\n",
       "<table border=\"1\" class=\"dataframe\">\n",
       "  <thead>\n",
       "    <tr style=\"text-align: right;\">\n",
       "      <th></th>\n",
       "      <th>filename</th>\n",
       "      <th>width</th>\n",
       "      <th>height</th>\n",
       "      <th>class</th>\n",
       "      <th>xmin</th>\n",
       "      <th>ymin</th>\n",
       "      <th>xmax</th>\n",
       "      <th>ymax</th>\n",
       "    </tr>\n",
       "  </thead>\n",
       "  <tbody>\n",
       "    <tr>\n",
       "      <th>0</th>\n",
       "      <td>vlcsnap-2023-10-31-16h24m12s082.png</td>\n",
       "      <td>1360</td>\n",
       "      <td>1024</td>\n",
       "      <td>tuna_whole</td>\n",
       "      <td>252</td>\n",
       "      <td>56</td>\n",
       "      <td>386</td>\n",
       "      <td>398</td>\n",
       "    </tr>\n",
       "    <tr>\n",
       "      <th>1</th>\n",
       "      <td>vlcsnap-2023-10-31-16h24m12s082.png</td>\n",
       "      <td>1360</td>\n",
       "      <td>1024</td>\n",
       "      <td>tuna_whole</td>\n",
       "      <td>59</td>\n",
       "      <td>101</td>\n",
       "      <td>210</td>\n",
       "      <td>326</td>\n",
       "    </tr>\n",
       "    <tr>\n",
       "      <th>2</th>\n",
       "      <td>vlcsnap-2023-10-31-16h24m12s082.png</td>\n",
       "      <td>1360</td>\n",
       "      <td>1024</td>\n",
       "      <td>tuna_whole</td>\n",
       "      <td>302</td>\n",
       "      <td>258</td>\n",
       "      <td>389</td>\n",
       "      <td>447</td>\n",
       "    </tr>\n",
       "    <tr>\n",
       "      <th>3</th>\n",
       "      <td>vlcsnap-2023-10-31-16h24m12s082.png</td>\n",
       "      <td>1360</td>\n",
       "      <td>1024</td>\n",
       "      <td>tuna_whole</td>\n",
       "      <td>222</td>\n",
       "      <td>414</td>\n",
       "      <td>356</td>\n",
       "      <td>631</td>\n",
       "    </tr>\n",
       "    <tr>\n",
       "      <th>4</th>\n",
       "      <td>vlcsnap-2023-10-31-16h24m12s082.png</td>\n",
       "      <td>1360</td>\n",
       "      <td>1024</td>\n",
       "      <td>tuna_whole</td>\n",
       "      <td>123</td>\n",
       "      <td>809</td>\n",
       "      <td>221</td>\n",
       "      <td>1023</td>\n",
       "    </tr>\n",
       "  </tbody>\n",
       "</table>\n",
       "</div>"
      ],
      "text/plain": [
       "                              filename  width  height       class  xmin  ymin  \\\n",
       "0  vlcsnap-2023-10-31-16h24m12s082.png   1360    1024  tuna_whole   252    56   \n",
       "1  vlcsnap-2023-10-31-16h24m12s082.png   1360    1024  tuna_whole    59   101   \n",
       "2  vlcsnap-2023-10-31-16h24m12s082.png   1360    1024  tuna_whole   302   258   \n",
       "3  vlcsnap-2023-10-31-16h24m12s082.png   1360    1024  tuna_whole   222   414   \n",
       "4  vlcsnap-2023-10-31-16h24m12s082.png   1360    1024  tuna_whole   123   809   \n",
       "\n",
       "   xmax  ymax  \n",
       "0   386   398  \n",
       "1   210   326  \n",
       "2   389   447  \n",
       "3   356   631  \n",
       "4   221  1023  "
      ]
     },
     "execution_count": 34,
     "metadata": {},
     "output_type": "execute_result"
    }
   ],
   "source": [
    "test_csv = pd.read_csv(test_csv_path)\n",
    "print(test_csv.shape)\n",
    "test_csv.head()"
   ]
  },
  {
   "cell_type": "code",
   "execution_count": 35,
   "id": "21b4d6e2",
   "metadata": {
    "gather": {
     "logged": 1703031283512
    },
    "tags": []
   },
   "outputs": [
    {
     "name": "stdout",
     "output_type": "stream",
     "text": [
      "['tuna_whole']\n"
     ]
    }
   ],
   "source": [
    "categories = train_csv[\"class\"].unique()\n",
    "print(categories)"
   ]
  },
  {
   "cell_type": "markdown",
   "id": "e49e76c9",
   "metadata": {},
   "source": [
    "## Encoding classes to integers\n",
    "* 0 is for background"
   ]
  },
  {
   "cell_type": "code",
   "execution_count": 36,
   "id": "42ada0db",
   "metadata": {
    "gather": {
     "logged": 1703031283635
    },
    "tags": []
   },
   "outputs": [],
   "source": [
    "# Encoding functions\n",
    "class LabelMap:\n",
    "    def __init__(self, categories):\n",
    "        self.map_dict = {}\n",
    "        self.reverse_map_dict={}\n",
    "        for i, cat in enumerate(categories):\n",
    "            self.map_dict[cat] = i + 1\n",
    "            self.reverse_map_dict[i] = cat\n",
    "    def fit(self, df, column):\n",
    "        df[column] = df[column].map(self.map_dict)\n",
    "        return df\n",
    "    def inverse(self, df, column):\n",
    "        df[column] = df[column].map(self.map_dict)\n",
    "        return df"
   ]
  },
  {
   "cell_type": "code",
   "execution_count": 37,
   "id": "27483943",
   "metadata": {
    "gather": {
     "logged": 1703031283761
    },
    "tags": []
   },
   "outputs": [],
   "source": [
    "label_map = LabelMap(categories)"
   ]
  },
  {
   "cell_type": "code",
   "execution_count": 38,
   "id": "c1714965",
   "metadata": {
    "gather": {
     "logged": 1703031283958
    },
    "tags": []
   },
   "outputs": [
    {
     "data": {
      "text/html": [
       "<div>\n",
       "<style scoped>\n",
       "    .dataframe tbody tr th:only-of-type {\n",
       "        vertical-align: middle;\n",
       "    }\n",
       "\n",
       "    .dataframe tbody tr th {\n",
       "        vertical-align: top;\n",
       "    }\n",
       "\n",
       "    .dataframe thead th {\n",
       "        text-align: right;\n",
       "    }\n",
       "</style>\n",
       "<table border=\"1\" class=\"dataframe\">\n",
       "  <thead>\n",
       "    <tr style=\"text-align: right;\">\n",
       "      <th></th>\n",
       "      <th>filename</th>\n",
       "      <th>width</th>\n",
       "      <th>height</th>\n",
       "      <th>class</th>\n",
       "      <th>xmin</th>\n",
       "      <th>ymin</th>\n",
       "      <th>xmax</th>\n",
       "      <th>ymax</th>\n",
       "    </tr>\n",
       "  </thead>\n",
       "  <tbody>\n",
       "    <tr>\n",
       "      <th>0</th>\n",
       "      <td>20210603_104900992_220307_MLT-2021-AUT-CG-001-...</td>\n",
       "      <td>1360</td>\n",
       "      <td>1024</td>\n",
       "      <td>1</td>\n",
       "      <td>446</td>\n",
       "      <td>0</td>\n",
       "      <td>646</td>\n",
       "      <td>223</td>\n",
       "    </tr>\n",
       "    <tr>\n",
       "      <th>1</th>\n",
       "      <td>20210603_104900992_220307_MLT-2021-AUT-CG-001-...</td>\n",
       "      <td>1360</td>\n",
       "      <td>1024</td>\n",
       "      <td>1</td>\n",
       "      <td>627</td>\n",
       "      <td>204</td>\n",
       "      <td>776</td>\n",
       "      <td>609</td>\n",
       "    </tr>\n",
       "    <tr>\n",
       "      <th>2</th>\n",
       "      <td>20210603_104900992_220307_MLT-2021-AUT-CG-001-...</td>\n",
       "      <td>1360</td>\n",
       "      <td>1024</td>\n",
       "      <td>1</td>\n",
       "      <td>473</td>\n",
       "      <td>391</td>\n",
       "      <td>636</td>\n",
       "      <td>778</td>\n",
       "    </tr>\n",
       "    <tr>\n",
       "      <th>3</th>\n",
       "      <td>20210603_104900992_220307_MLT-2021-AUT-CG-001-...</td>\n",
       "      <td>1360</td>\n",
       "      <td>1024</td>\n",
       "      <td>1</td>\n",
       "      <td>583</td>\n",
       "      <td>653</td>\n",
       "      <td>716</td>\n",
       "      <td>902</td>\n",
       "    </tr>\n",
       "    <tr>\n",
       "      <th>4</th>\n",
       "      <td>20210603_104900992_220307_MLT-2021-AUT-CG-001-...</td>\n",
       "      <td>1360</td>\n",
       "      <td>1024</td>\n",
       "      <td>1</td>\n",
       "      <td>477</td>\n",
       "      <td>975</td>\n",
       "      <td>564</td>\n",
       "      <td>1023</td>\n",
       "    </tr>\n",
       "  </tbody>\n",
       "</table>\n",
       "</div>"
      ],
      "text/plain": [
       "                                            filename  width  height  class  \\\n",
       "0  20210603_104900992_220307_MLT-2021-AUT-CG-001-...   1360    1024      1   \n",
       "1  20210603_104900992_220307_MLT-2021-AUT-CG-001-...   1360    1024      1   \n",
       "2  20210603_104900992_220307_MLT-2021-AUT-CG-001-...   1360    1024      1   \n",
       "3  20210603_104900992_220307_MLT-2021-AUT-CG-001-...   1360    1024      1   \n",
       "4  20210603_104900992_220307_MLT-2021-AUT-CG-001-...   1360    1024      1   \n",
       "\n",
       "   xmin  ymin  xmax  ymax  \n",
       "0   446     0   646   223  \n",
       "1   627   204   776   609  \n",
       "2   473   391   636   778  \n",
       "3   583   653   716   902  \n",
       "4   477   975   564  1023  "
      ]
     },
     "execution_count": 38,
     "metadata": {},
     "output_type": "execute_result"
    }
   ],
   "source": [
    "train_csv = label_map.fit(train_csv, \"class\")\n",
    "train_csv.head()"
   ]
  },
  {
   "cell_type": "code",
   "execution_count": 39,
   "id": "f5d3b42f",
   "metadata": {
    "gather": {
     "logged": 1703031284097
    },
    "tags": []
   },
   "outputs": [
    {
     "data": {
      "text/html": [
       "<div>\n",
       "<style scoped>\n",
       "    .dataframe tbody tr th:only-of-type {\n",
       "        vertical-align: middle;\n",
       "    }\n",
       "\n",
       "    .dataframe tbody tr th {\n",
       "        vertical-align: top;\n",
       "    }\n",
       "\n",
       "    .dataframe thead th {\n",
       "        text-align: right;\n",
       "    }\n",
       "</style>\n",
       "<table border=\"1\" class=\"dataframe\">\n",
       "  <thead>\n",
       "    <tr style=\"text-align: right;\">\n",
       "      <th></th>\n",
       "      <th>filename</th>\n",
       "      <th>width</th>\n",
       "      <th>height</th>\n",
       "      <th>class</th>\n",
       "      <th>xmin</th>\n",
       "      <th>ymin</th>\n",
       "      <th>xmax</th>\n",
       "      <th>ymax</th>\n",
       "    </tr>\n",
       "  </thead>\n",
       "  <tbody>\n",
       "    <tr>\n",
       "      <th>0</th>\n",
       "      <td>vlcsnap-2023-10-31-16h24m12s082.png</td>\n",
       "      <td>1360</td>\n",
       "      <td>1024</td>\n",
       "      <td>1</td>\n",
       "      <td>252</td>\n",
       "      <td>56</td>\n",
       "      <td>386</td>\n",
       "      <td>398</td>\n",
       "    </tr>\n",
       "    <tr>\n",
       "      <th>1</th>\n",
       "      <td>vlcsnap-2023-10-31-16h24m12s082.png</td>\n",
       "      <td>1360</td>\n",
       "      <td>1024</td>\n",
       "      <td>1</td>\n",
       "      <td>59</td>\n",
       "      <td>101</td>\n",
       "      <td>210</td>\n",
       "      <td>326</td>\n",
       "    </tr>\n",
       "    <tr>\n",
       "      <th>2</th>\n",
       "      <td>vlcsnap-2023-10-31-16h24m12s082.png</td>\n",
       "      <td>1360</td>\n",
       "      <td>1024</td>\n",
       "      <td>1</td>\n",
       "      <td>302</td>\n",
       "      <td>258</td>\n",
       "      <td>389</td>\n",
       "      <td>447</td>\n",
       "    </tr>\n",
       "    <tr>\n",
       "      <th>3</th>\n",
       "      <td>vlcsnap-2023-10-31-16h24m12s082.png</td>\n",
       "      <td>1360</td>\n",
       "      <td>1024</td>\n",
       "      <td>1</td>\n",
       "      <td>222</td>\n",
       "      <td>414</td>\n",
       "      <td>356</td>\n",
       "      <td>631</td>\n",
       "    </tr>\n",
       "    <tr>\n",
       "      <th>4</th>\n",
       "      <td>vlcsnap-2023-10-31-16h24m12s082.png</td>\n",
       "      <td>1360</td>\n",
       "      <td>1024</td>\n",
       "      <td>1</td>\n",
       "      <td>123</td>\n",
       "      <td>809</td>\n",
       "      <td>221</td>\n",
       "      <td>1023</td>\n",
       "    </tr>\n",
       "  </tbody>\n",
       "</table>\n",
       "</div>"
      ],
      "text/plain": [
       "                              filename  width  height  class  xmin  ymin  \\\n",
       "0  vlcsnap-2023-10-31-16h24m12s082.png   1360    1024      1   252    56   \n",
       "1  vlcsnap-2023-10-31-16h24m12s082.png   1360    1024      1    59   101   \n",
       "2  vlcsnap-2023-10-31-16h24m12s082.png   1360    1024      1   302   258   \n",
       "3  vlcsnap-2023-10-31-16h24m12s082.png   1360    1024      1   222   414   \n",
       "4  vlcsnap-2023-10-31-16h24m12s082.png   1360    1024      1   123   809   \n",
       "\n",
       "   xmax  ymax  \n",
       "0   386   398  \n",
       "1   210   326  \n",
       "2   389   447  \n",
       "3   356   631  \n",
       "4   221  1023  "
      ]
     },
     "execution_count": 39,
     "metadata": {},
     "output_type": "execute_result"
    }
   ],
   "source": [
    "test_csv = label_map.fit(test_csv, \"class\")\n",
    "test_csv.head()"
   ]
  },
  {
   "cell_type": "markdown",
   "id": "c3518931",
   "metadata": {},
   "source": [
    "## Torch Dataset Creation"
   ]
  },
  {
   "cell_type": "code",
   "execution_count": 40,
   "id": "73d103a4",
   "metadata": {
    "gather": {
     "logged": 1703031284234
    },
    "tags": []
   },
   "outputs": [],
   "source": [
    "class AnimalDataset(torch.utils.data.Dataset):\n",
    "    def __init__(self, df, image_path, categories, transforms=None,**kwargs):\n",
    "        super().__init__(**kwargs)\n",
    "        self.df = df\n",
    "        self.image_path = image_path\n",
    "        self.categories = categories\n",
    "        self.images = self.df[\"filename\"].unique()\n",
    "        self.transforms = transforms\n",
    "    def __len__(self):\n",
    "        return len(self.images)\n",
    "    \n",
    "    def __getitem__(self, idx):\n",
    "        image_file = os.path.join(self.image_path, self.images[idx])\n",
    "        img = cv2.imread(image_file, cv2.IMREAD_GRAYSCALE)\n",
    "        img = cv2.cvtColor(img, cv2.COLOR_BGR2RGB)\n",
    "        img = img.astype(np.float32)\n",
    "        img = img/255.0\n",
    "        image_data = self.df[self.df['filename'] == self.images[idx]]\n",
    "        labels = torch.as_tensor(image_data[\"class\"].values, dtype=torch.int64)\n",
    "        xmins = image_data[\"xmin\"].values\n",
    "        ymins = image_data[\"ymin\"].values\n",
    "        xmaxs = image_data[\"xmax\"].values\n",
    "        ymaxs = image_data[\"ymax\"].values\n",
    "        boxes = torch.as_tensor(np.stack([xmins, ymins, xmaxs, ymaxs], axis=1), dtype=torch.float32)\n",
    "        areas = (boxes[:,3] - boxes[:,1]) * (boxes[:,2] - boxes[:,0])\n",
    "        areas = torch.as_tensor(areas, dtype=torch.float32)\n",
    "        image_id = torch.tensor([idx])\n",
    "        iscrowd = torch.zeros((len(labels),), dtype=torch.int64)\n",
    "        target = {}\n",
    "        target[\"boxes\"] = boxes\n",
    "        target[\"labels\"] = labels\n",
    "        target[\"image_id\"] = image_id\n",
    "        target[\"area\"] = areas\n",
    "        target[\"iscrowd\"] = iscrowd\n",
    "        if self.transforms is not None:\n",
    "            transformed = self.transforms(image=img, bboxes=boxes, labels=labels)\n",
    "            img = transformed[\"image\"]\n",
    "            target[\"boxes\"] = torch.as_tensor(transformed[\"bboxes\"],dtype=torch.float32)\n",
    "        return torch.as_tensor(img, dtype=torch.float32), target\n",
    "    def get_height_and_width(self, image):\n",
    "        image_data = self.df.loc[self.df['filename'] == image]\n",
    "        return image_data[\"width\"].values[0], image_data[\"height\"].values[0]"
   ]
  },
  {
   "cell_type": "markdown",
   "id": "872f509e",
   "metadata": {},
   "source": [
    "## Data Augmentation"
   ]
  },
  {
   "cell_type": "code",
   "execution_count": 41,
   "id": "9db1a390",
   "metadata": {
    "gather": {
     "logged": 1703031284366
    },
    "tags": []
   },
   "outputs": [],
   "source": [
    "transform_train = A.Compose([\n",
    "    A.HorizontalFlip(p=0.5),\n",
    "    A.VerticalFlip(p=0.5),\n",
    "    A.RandomBrightnessContrast(p=0.2),\n",
    "    A.augmentations.geometric.transforms.Affine(scale=0.5, p=0.3,shear=(20), translate_percent=0.2),\n",
    "    # A.ISONoise(p=0.2),\n",
    "    # A.GaussNoise(p=0.1),\n",
    "    # A.CLAHE(p=0.1),\n",
    "    # A.CenterCrop(height=700, width=1000, p=0.3),\n",
    "    # A.HueSaturationValue(p=0.1),\n",
    "    ToTensorV2(p=1)\n",
    "], bbox_params=A.BboxParams(format='pascal_voc', label_fields=['labels']))"
   ]
  },
  {
   "cell_type": "code",
   "execution_count": 42,
   "id": "a2d6c01c",
   "metadata": {
    "gather": {
     "logged": 1703031284495
    },
    "tags": []
   },
   "outputs": [],
   "source": [
    "transform_test = A.Compose([\n",
    "    ToTensorV2(p=1)\n",
    "], bbox_params=A.BboxParams(format='pascal_voc', label_fields=['labels']))"
   ]
  },
  {
   "cell_type": "markdown",
   "id": "f0f966ba",
   "metadata": {},
   "source": [
    "## Dataloader creation"
   ]
  },
  {
   "cell_type": "code",
   "execution_count": 43,
   "id": "40a91930",
   "metadata": {
    "gather": {
     "logged": 1703031284614
    },
    "tags": []
   },
   "outputs": [],
   "source": [
    "def collate_fn(batch):\n",
    "    return tuple(zip(*batch))"
   ]
  },
  {
   "cell_type": "code",
   "execution_count": 44,
   "id": "21b4c1bf",
   "metadata": {
    "gather": {
     "logged": 1703031284732
    },
    "tags": []
   },
   "outputs": [],
   "source": [
    "train_dataset = AnimalDataset(train_csv, train_image_path, categories, transform_train)\n",
    "test_dataset = AnimalDataset(test_csv, test_image_path, categories, transform_test)"
   ]
  },
  {
   "cell_type": "code",
   "execution_count": 46,
   "id": "f3ce1281",
   "metadata": {
    "gather": {
     "logged": 1703031284852
    },
    "tags": []
   },
   "outputs": [],
   "source": [
    "data_loader_train = torch.utils.data.DataLoader(\n",
    "        train_dataset, batch_size=2, shuffle=True, num_workers=4,\n",
    "        collate_fn=collate_fn)\n",
    "    \n",
    "data_loader_test = torch.utils.data.DataLoader(\n",
    "    test_dataset, batch_size=1, shuffle=False, num_workers=4,\n",
    "    collate_fn=collate_fn)"
   ]
  },
  {
   "cell_type": "markdown",
   "id": "89e5902b",
   "metadata": {},
   "source": [
    "## Plot images from dataloader"
   ]
  },
  {
   "cell_type": "code",
   "execution_count": 47,
   "id": "f3422560",
   "metadata": {
    "gather": {
     "logged": 1703031284970
    },
    "tags": []
   },
   "outputs": [],
   "source": [
    "def plot_images(images, targets):\n",
    "    for image, target in zip(images, targets):\n",
    "        sample = image.permute(1,2,0).cpu().numpy()\n",
    "        fig, ax = plt.subplots(1, 1, figsize=(8, 4))\n",
    "        boxes = target[\"boxes\"].cpu().numpy().astype(np.int32)\n",
    "        for box in boxes:\n",
    "            cv2.rectangle(sample,\n",
    "                      (box[0], box[1]),\n",
    "                      (box[2], box[3]),\n",
    "                      (220, 0, 0), 3)\n",
    "        ax.set_axis_off()\n",
    "        ax.imshow(sample)"
   ]
  },
  {
   "cell_type": "code",
   "execution_count": 48,
   "id": "d0154005",
   "metadata": {
    "gather": {
     "logged": 1703031289693
    },
    "tags": []
   },
   "outputs": [
    {
     "name": "stderr",
     "output_type": "stream",
     "text": [
      "Clipping input data to the valid range for imshow with RGB data ([0..1] for floats or [0..255] for integers).\n",
      "Clipping input data to the valid range for imshow with RGB data ([0..1] for floats or [0..255] for integers).\n"
     ]
    },
    {
     "name": "stdout",
     "output_type": "stream",
     "text": [
      "Train batch\n"
     ]
    },
    {
     "data": {
      "image/png": "[encoded data removed]",
      "text/plain": [
       "<Figure size 800x400 with 1 Axes>"
      ]
     },
     "metadata": {},
     "output_type": "display_data"
    },
    {
     "data": {
      "image/png": "[encoded data removed]",
      "text/plain": [
       "<Figure size 800x400 with 1 Axes>"
      ]
     },
     "metadata": {},
     "output_type": "display_data"
    }
   ],
   "source": [
    "images, targets = next(iter(data_loader_train))\n",
    "print(\"Train batch\")\n",
    "plot_images(images, targets)"
   ]
  },
  {
   "cell_type": "code",
   "execution_count": 49,
   "id": "17b1bf7d",
   "metadata": {
    "gather": {
     "logged": 1703031295167
    },
    "tags": []
   },
   "outputs": [
    {
     "name": "stderr",
     "output_type": "stream",
     "text": [
      "Clipping input data to the valid range for imshow with RGB data ([0..1] for floats or [0..255] for integers).\n"
     ]
    },
    {
     "name": "stdout",
     "output_type": "stream",
     "text": [
      "test batch\n"
     ]
    },
    {
     "data": {
      "image/png": "[encoded data removed]",
      "text/plain": [
       "<Figure size 800x400 with 1 Axes>"
      ]
     },
     "metadata": {},
     "output_type": "display_data"
    }
   ],
   "source": [
    "images, targets = next(iter(data_loader_test))\n",
    "print(\"test batch\")\n",
    "plot_images(images, targets)"
   ]
  },
  {
   "cell_type": "markdown",
   "id": "fc1cb58c",
   "metadata": {},
   "source": [
    "## Training"
   ]
  },
  {
   "cell_type": "markdown",
   "id": "ef5c18a6",
   "metadata": {},
   "source": [
    "import model from torchvision library </br>\n",
    "https://pytorch.org/vision/0.11/models.html"
   ]
  },
  {
   "cell_type": "code",
   "execution_count": 50,
   "id": "cda7afe1",
   "metadata": {
    "gather": {
     "logged": 1703031295357
    },
    "tags": []
   },
   "outputs": [],
   "source": [
    "num_classes = len(categories)+1 # add background class"
   ]
  },
  {
   "cell_type": "code",
   "execution_count": 51,
   "id": "34abe42a",
   "metadata": {
    "gather": {
     "logged": 1703031295506
    },
    "tags": []
   },
   "outputs": [
    {
     "name": "stderr",
     "output_type": "stream",
     "text": [
      "/anaconda/envs/azureml_py38_PT_TF/lib/python3.8/site-packages/torchvision/models/_utils.py:208: UserWarning: The parameter 'pretrained' is deprecated since 0.13 and will be removed in 0.15, please use 'weights' instead.\n",
      "  warnings.warn(\n",
      "/anaconda/envs/azureml_py38_PT_TF/lib/python3.8/site-packages/torchvision/models/_utils.py:223: UserWarning: Arguments other than a weight enum or `None` for 'weights' are deprecated since 0.13 and will be removed in 0.15. The current behavior is equivalent to passing `weights=FasterRCNN_ResNet50_FPN_Weights.COCO_V1`. You can also use `weights=FasterRCNN_ResNet50_FPN_Weights.DEFAULT` to get the most up-to-date weights.\n",
      "  warnings.warn(msg)\n"
     ]
    }
   ],
   "source": [
    "import torchvision.models.detection as torch_det\n",
    "\n",
    "detection_model = torch_det.fasterrcnn_resnet50_fpn(pretrained=True)\n",
    "\n",
    "# ... Alternatives ...\n",
    "# detection_model = torch_det.fasterrcnn_mobilenet_v3_large_320_fpn(pretrained=True)\n",
    "# detection_model = torch_det.fasterrcnn_mobilenet_v3_large_fpn(pretrained=True)\n",
    "# detection_model = torch_det.ssdlite320_mobilenet_v3_large(num_classes=num_classes)\n",
    "# detection_model = torch_det.ssd300_vgg16(num_classes=num_classes)\n",
    "# detection_model = torch_det.retinanet_resnet50_fpn(num_classes=num_classes)"
   ]
  },
  {
   "cell_type": "markdown",
   "id": "3c4c5616",
   "metadata": {},
   "source": [
    "adjust classes"
   ]
  },
  {
   "cell_type": "code",
   "execution_count": 52,
   "id": "24118ceb",
   "metadata": {
    "gather": {
     "logged": 1703031295637
    },
    "tags": []
   },
   "outputs": [],
   "source": [
    "# for FastRCNN series... \n",
    "in_features = detection_model.roi_heads.box_predictor.cls_score.in_features\n",
    "detection_model.roi_heads.box_predictor = torch_det.faster_rcnn.FastRCNNPredictor(in_features, num_classes)"
   ]
  },
  {
   "cell_type": "markdown",
   "id": "9d97f4d2",
   "metadata": {},
   "source": [
    "GPU load try and mount the model"
   ]
  },
  {
   "cell_type": "code",
   "execution_count": 53,
   "id": "8974d3d9",
   "metadata": {
    "gather": {
     "logged": 1703031295761
    },
    "tags": []
   },
   "outputs": [],
   "source": [
    "device = torch.device(\"cuda\") if torch.cuda.is_available() else torch.device(\"cpu\")"
   ]
  },
  {
   "cell_type": "code",
   "execution_count": 54,
   "id": "9d3d582e",
   "metadata": {
    "gather": {
     "logged": 1703031301265
    },
    "tags": []
   },
   "outputs": [
    {
     "data": {
      "text/plain": [
       "FasterRCNN(\n",
       "  (transform): GeneralizedRCNNTransform(\n",
       "      Normalize(mean=[0.485, 0.456, 0.406], std=[0.229, 0.224, 0.225])\n",
       "      Resize(min_size=(800,), max_size=1333, mode='bilinear')\n",
       "  )\n",
       "  (backbone): BackboneWithFPN(\n",
       "    (body): IntermediateLayerGetter(\n",
       "      (conv1): Conv2d(3, 64, kernel_size=(7, 7), stride=(2, 2), padding=(3, 3), bias=False)\n",
       "      (bn1): FrozenBatchNorm2d(64, eps=0.0)\n",
       "      (relu): ReLU(inplace=True)\n",
       "      (maxpool): MaxPool2d(kernel_size=3, stride=2, padding=1, dilation=1, ceil_mode=False)\n",
       "      (layer1): Sequential(\n",
       "        (0): Bottleneck(\n",
       "          (conv1): Conv2d(64, 64, kernel_size=(1, 1), stride=(1, 1), bias=False)\n",
       "          (bn1): FrozenBatchNorm2d(64, eps=0.0)\n",
       "          (conv2): Conv2d(64, 64, kernel_size=(3, 3), stride=(1, 1), padding=(1, 1), bias=False)\n",
       "          (bn2): FrozenBatchNorm2d(64, eps=0.0)\n",
       "          (conv3): Conv2d(64, 256, kernel_size=(1, 1), stride=(1, 1), bias=False)\n",
       "          (bn3): FrozenBatchNorm2d(256, eps=0.0)\n",
       "          (relu): ReLU(inplace=True)\n",
       "          (downsample): Sequential(\n",
       "            (0): Conv2d(64, 256, kernel_size=(1, 1), stride=(1, 1), bias=False)\n",
       "            (1): FrozenBatchNorm2d(256, eps=0.0)\n",
       "          )\n",
       "        )\n",
       "        (1): Bottleneck(\n",
       "          (conv1): Conv2d(256, 64, kernel_size=(1, 1), stride=(1, 1), bias=False)\n",
       "          (bn1): FrozenBatchNorm2d(64, eps=0.0)\n",
       "          (conv2): Conv2d(64, 64, kernel_size=(3, 3), stride=(1, 1), padding=(1, 1), bias=False)\n",
       "          (bn2): FrozenBatchNorm2d(64, eps=0.0)\n",
       "          (conv3): Conv2d(64, 256, kernel_size=(1, 1), stride=(1, 1), bias=False)\n",
       "          (bn3): FrozenBatchNorm2d(256, eps=0.0)\n",
       "          (relu): ReLU(inplace=True)\n",
       "        )\n",
       "        (2): Bottleneck(\n",
       "          (conv1): Conv2d(256, 64, kernel_size=(1, 1), stride=(1, 1), bias=False)\n",
       "          (bn1): FrozenBatchNorm2d(64, eps=0.0)\n",
       "          (conv2): Conv2d(64, 64, kernel_size=(3, 3), stride=(1, 1), padding=(1, 1), bias=False)\n",
       "          (bn2): FrozenBatchNorm2d(64, eps=0.0)\n",
       "          (conv3): Conv2d(64, 256, kernel_size=(1, 1), stride=(1, 1), bias=False)\n",
       "          (bn3): FrozenBatchNorm2d(256, eps=0.0)\n",
       "          (relu): ReLU(inplace=True)\n",
       "        )\n",
       "      )\n",
       "      (layer2): Sequential(\n",
       "        (0): Bottleneck(\n",
       "          (conv1): Conv2d(256, 128, kernel_size=(1, 1), stride=(1, 1), bias=False)\n",
       "          (bn1): FrozenBatchNorm2d(128, eps=0.0)\n",
       "          (conv2): Conv2d(128, 128, kernel_size=(3, 3), stride=(2, 2), padding=(1, 1), bias=False)\n",
       "          (bn2): FrozenBatchNorm2d(128, eps=0.0)\n",
       "          (conv3): Conv2d(128, 512, kernel_size=(1, 1), stride=(1, 1), bias=False)\n",
       "          (bn3): FrozenBatchNorm2d(512, eps=0.0)\n",
       "          (relu): ReLU(inplace=True)\n",
       "          (downsample): Sequential(\n",
       "            (0): Conv2d(256, 512, kernel_size=(1, 1), stride=(2, 2), bias=False)\n",
       "            (1): FrozenBatchNorm2d(512, eps=0.0)\n",
       "          )\n",
       "        )\n",
       "        (1): Bottleneck(\n",
       "          (conv1): Conv2d(512, 128, kernel_size=(1, 1), stride=(1, 1), bias=False)\n",
       "          (bn1): FrozenBatchNorm2d(128, eps=0.0)\n",
       "          (conv2): Conv2d(128, 128, kernel_size=(3, 3), stride=(1, 1), padding=(1, 1), bias=False)\n",
       "          (bn2): FrozenBatchNorm2d(128, eps=0.0)\n",
       "          (conv3): Conv2d(128, 512, kernel_size=(1, 1), stride=(1, 1), bias=False)\n",
       "          (bn3): FrozenBatchNorm2d(512, eps=0.0)\n",
       "          (relu): ReLU(inplace=True)\n",
       "        )\n",
       "        (2): Bottleneck(\n",
       "          (conv1): Conv2d(512, 128, kernel_size=(1, 1), stride=(1, 1), bias=False)\n",
       "          (bn1): FrozenBatchNorm2d(128, eps=0.0)\n",
       "          (conv2): Conv2d(128, 128, kernel_size=(3, 3), stride=(1, 1), padding=(1, 1), bias=False)\n",
       "          (bn2): FrozenBatchNorm2d(128, eps=0.0)\n",
       "          (conv3): Conv2d(128, 512, kernel_size=(1, 1), stride=(1, 1), bias=False)\n",
       "          (bn3): FrozenBatchNorm2d(512, eps=0.0)\n",
       "          (relu): ReLU(inplace=True)\n",
       "        )\n",
       "        (3): Bottleneck(\n",
       "          (conv1): Conv2d(512, 128, kernel_size=(1, 1), stride=(1, 1), bias=False)\n",
       "          (bn1): FrozenBatchNorm2d(128, eps=0.0)\n",
       "          (conv2): Conv2d(128, 128, kernel_size=(3, 3), stride=(1, 1), padding=(1, 1), bias=False)\n",
       "          (bn2): FrozenBatchNorm2d(128, eps=0.0)\n",
       "          (conv3): Conv2d(128, 512, kernel_size=(1, 1), stride=(1, 1), bias=False)\n",
       "          (bn3): FrozenBatchNorm2d(512, eps=0.0)\n",
       "          (relu): ReLU(inplace=True)\n",
       "        )\n",
       "      )\n",
       "      (layer3): Sequential(\n",
       "        (0): Bottleneck(\n",
       "          (conv1): Conv2d(512, 256, kernel_size=(1, 1), stride=(1, 1), bias=False)\n",
       "          (bn1): FrozenBatchNorm2d(256, eps=0.0)\n",
       "          (conv2): Conv2d(256, 256, kernel_size=(3, 3), stride=(2, 2), padding=(1, 1), bias=False)\n",
       "          (bn2): FrozenBatchNorm2d(256, eps=0.0)\n",
       "          (conv3): Conv2d(256, 1024, kernel_size=(1, 1), stride=(1, 1), bias=False)\n",
       "          (bn3): FrozenBatchNorm2d(1024, eps=0.0)\n",
       "          (relu): ReLU(inplace=True)\n",
       "          (downsample): Sequential(\n",
       "            (0): Conv2d(512, 1024, kernel_size=(1, 1), stride=(2, 2), bias=False)\n",
       "            (1): FrozenBatchNorm2d(1024, eps=0.0)\n",
       "          )\n",
       "        )\n",
       "        (1): Bottleneck(\n",
       "          (conv1): Conv2d(1024, 256, kernel_size=(1, 1), stride=(1, 1), bias=False)\n",
       "          (bn1): FrozenBatchNorm2d(256, eps=0.0)\n",
       "          (conv2): Conv2d(256, 256, kernel_size=(3, 3), stride=(1, 1), padding=(1, 1), bias=False)\n",
       "          (bn2): FrozenBatchNorm2d(256, eps=0.0)\n",
       "          (conv3): Conv2d(256, 1024, kernel_size=(1, 1), stride=(1, 1), bias=False)\n",
       "          (bn3): FrozenBatchNorm2d(1024, eps=0.0)\n",
       "          (relu): ReLU(inplace=True)\n",
       "        )\n",
       "        (2): Bottleneck(\n",
       "          (conv1): Conv2d(1024, 256, kernel_size=(1, 1), stride=(1, 1), bias=False)\n",
       "          (bn1): FrozenBatchNorm2d(256, eps=0.0)\n",
       "          (conv2): Conv2d(256, 256, kernel_size=(3, 3), stride=(1, 1), padding=(1, 1), bias=False)\n",
       "          (bn2): FrozenBatchNorm2d(256, eps=0.0)\n",
       "          (conv3): Conv2d(256, 1024, kernel_size=(1, 1), stride=(1, 1), bias=False)\n",
       "          (bn3): FrozenBatchNorm2d(1024, eps=0.0)\n",
       "          (relu): ReLU(inplace=True)\n",
       "        )\n",
       "        (3): Bottleneck(\n",
       "          (conv1): Conv2d(1024, 256, kernel_size=(1, 1), stride=(1, 1), bias=False)\n",
       "          (bn1): FrozenBatchNorm2d(256, eps=0.0)\n",
       "          (conv2): Conv2d(256, 256, kernel_size=(3, 3), stride=(1, 1), padding=(1, 1), bias=False)\n",
       "          (bn2): FrozenBatchNorm2d(256, eps=0.0)\n",
       "          (conv3): Conv2d(256, 1024, kernel_size=(1, 1), stride=(1, 1), bias=False)\n",
       "          (bn3): FrozenBatchNorm2d(1024, eps=0.0)\n",
       "          (relu): ReLU(inplace=True)\n",
       "        )\n",
       "        (4): Bottleneck(\n",
       "          (conv1): Conv2d(1024, 256, kernel_size=(1, 1), stride=(1, 1), bias=False)\n",
       "          (bn1): FrozenBatchNorm2d(256, eps=0.0)\n",
       "          (conv2): Conv2d(256, 256, kernel_size=(3, 3), stride=(1, 1), padding=(1, 1), bias=False)\n",
       "          (bn2): FrozenBatchNorm2d(256, eps=0.0)\n",
       "          (conv3): Conv2d(256, 1024, kernel_size=(1, 1), stride=(1, 1), bias=False)\n",
       "          (bn3): FrozenBatchNorm2d(1024, eps=0.0)\n",
       "          (relu): ReLU(inplace=True)\n",
       "        )\n",
       "        (5): Bottleneck(\n",
       "          (conv1): Conv2d(1024, 256, kernel_size=(1, 1), stride=(1, 1), bias=False)\n",
       "          (bn1): FrozenBatchNorm2d(256, eps=0.0)\n",
       "          (conv2): Conv2d(256, 256, kernel_size=(3, 3), stride=(1, 1), padding=(1, 1), bias=False)\n",
       "          (bn2): FrozenBatchNorm2d(256, eps=0.0)\n",
       "          (conv3): Conv2d(256, 1024, kernel_size=(1, 1), stride=(1, 1), bias=False)\n",
       "          (bn3): FrozenBatchNorm2d(1024, eps=0.0)\n",
       "          (relu): ReLU(inplace=True)\n",
       "        )\n",
       "      )\n",
       "      (layer4): Sequential(\n",
       "        (0): Bottleneck(\n",
       "          (conv1): Conv2d(1024, 512, kernel_size=(1, 1), stride=(1, 1), bias=False)\n",
       "          (bn1): FrozenBatchNorm2d(512, eps=0.0)\n",
       "          (conv2): Conv2d(512, 512, kernel_size=(3, 3), stride=(2, 2), padding=(1, 1), bias=False)\n",
       "          (bn2): FrozenBatchNorm2d(512, eps=0.0)\n",
       "          (conv3): Conv2d(512, 2048, kernel_size=(1, 1), stride=(1, 1), bias=False)\n",
       "          (bn3): FrozenBatchNorm2d(2048, eps=0.0)\n",
       "          (relu): ReLU(inplace=True)\n",
       "          (downsample): Sequential(\n",
       "            (0): Conv2d(1024, 2048, kernel_size=(1, 1), stride=(2, 2), bias=False)\n",
       "            (1): FrozenBatchNorm2d(2048, eps=0.0)\n",
       "          )\n",
       "        )\n",
       "        (1): Bottleneck(\n",
       "          (conv1): Conv2d(2048, 512, kernel_size=(1, 1), stride=(1, 1), bias=False)\n",
       "          (bn1): FrozenBatchNorm2d(512, eps=0.0)\n",
       "          (conv2): Conv2d(512, 512, kernel_size=(3, 3), stride=(1, 1), padding=(1, 1), bias=False)\n",
       "          (bn2): FrozenBatchNorm2d(512, eps=0.0)\n",
       "          (conv3): Conv2d(512, 2048, kernel_size=(1, 1), stride=(1, 1), bias=False)\n",
       "          (bn3): FrozenBatchNorm2d(2048, eps=0.0)\n",
       "          (relu): ReLU(inplace=True)\n",
       "        )\n",
       "        (2): Bottleneck(\n",
       "          (conv1): Conv2d(2048, 512, kernel_size=(1, 1), stride=(1, 1), bias=False)\n",
       "          (bn1): FrozenBatchNorm2d(512, eps=0.0)\n",
       "          (conv2): Conv2d(512, 512, kernel_size=(3, 3), stride=(1, 1), padding=(1, 1), bias=False)\n",
       "          (bn2): FrozenBatchNorm2d(512, eps=0.0)\n",
       "          (conv3): Conv2d(512, 2048, kernel_size=(1, 1), stride=(1, 1), bias=False)\n",
       "          (bn3): FrozenBatchNorm2d(2048, eps=0.0)\n",
       "          (relu): ReLU(inplace=True)\n",
       "        )\n",
       "      )\n",
       "    )\n",
       "    (fpn): FeaturePyramidNetwork(\n",
       "      (inner_blocks): ModuleList(\n",
       "        (0): Conv2dNormActivation(\n",
       "          (0): Conv2d(256, 256, kernel_size=(1, 1), stride=(1, 1))\n",
       "        )\n",
       "        (1): Conv2dNormActivation(\n",
       "          (0): Conv2d(512, 256, kernel_size=(1, 1), stride=(1, 1))\n",
       "        )\n",
       "        (2): Conv2dNormActivation(\n",
       "          (0): Conv2d(1024, 256, kernel_size=(1, 1), stride=(1, 1))\n",
       "        )\n",
       "        (3): Conv2dNormActivation(\n",
       "          (0): Conv2d(2048, 256, kernel_size=(1, 1), stride=(1, 1))\n",
       "        )\n",
       "      )\n",
       "      (layer_blocks): ModuleList(\n",
       "        (0): Conv2dNormActivation(\n",
       "          (0): Conv2d(256, 256, kernel_size=(3, 3), stride=(1, 1), padding=(1, 1))\n",
       "        )\n",
       "        (1): Conv2dNormActivation(\n",
       "          (0): Conv2d(256, 256, kernel_size=(3, 3), stride=(1, 1), padding=(1, 1))\n",
       "        )\n",
       "        (2): Conv2dNormActivation(\n",
       "          (0): Conv2d(256, 256, kernel_size=(3, 3), stride=(1, 1), padding=(1, 1))\n",
       "        )\n",
       "        (3): Conv2dNormActivation(\n",
       "          (0): Conv2d(256, 256, kernel_size=(3, 3), stride=(1, 1), padding=(1, 1))\n",
       "        )\n",
       "      )\n",
       "      (extra_blocks): LastLevelMaxPool()\n",
       "    )\n",
       "  )\n",
       "  (rpn): RegionProposalNetwork(\n",
       "    (anchor_generator): AnchorGenerator()\n",
       "    (head): RPNHead(\n",
       "      (conv): Sequential(\n",
       "        (0): Conv2dNormActivation(\n",
       "          (0): Conv2d(256, 256, kernel_size=(3, 3), stride=(1, 1), padding=(1, 1))\n",
       "          (1): ReLU(inplace=True)\n",
       "        )\n",
       "      )\n",
       "      (cls_logits): Conv2d(256, 3, kernel_size=(1, 1), stride=(1, 1))\n",
       "      (bbox_pred): Conv2d(256, 12, kernel_size=(1, 1), stride=(1, 1))\n",
       "    )\n",
       "  )\n",
       "  (roi_heads): RoIHeads(\n",
       "    (box_roi_pool): MultiScaleRoIAlign(featmap_names=['0', '1', '2', '3'], output_size=(7, 7), sampling_ratio=2)\n",
       "    (box_head): TwoMLPHead(\n",
       "      (fc6): Linear(in_features=12544, out_features=1024, bias=True)\n",
       "      (fc7): Linear(in_features=1024, out_features=1024, bias=True)\n",
       "    )\n",
       "    (box_predictor): FastRCNNPredictor(\n",
       "      (cls_score): Linear(in_features=1024, out_features=2, bias=True)\n",
       "      (bbox_pred): Linear(in_features=1024, out_features=8, bias=True)\n",
       "    )\n",
       "  )\n",
       ")"
      ]
     },
     "execution_count": 54,
     "metadata": {},
     "output_type": "execute_result"
    }
   ],
   "source": [
    "# if you have pre-trianed model\n",
    "detection_model.load_state_dict(torch.load(pretrained_model))\n",
    "\n",
    "detection_model.to(device)"
   ]
  },
  {
   "cell_type": "markdown",
   "id": "401ad87d",
   "metadata": {},
   "source": [
    "Training and validation config"
   ]
  },
  {
   "cell_type": "code",
   "execution_count": 57,
   "id": "4ccba199-4deb-4b51-926a-075842a92edc",
   "metadata": {
    "gather": {
     "logged": 1703031305523
    }
   },
   "outputs": [
    {
     "name": "stderr",
     "output_type": "stream",
     "text": [
      "\u001b[34m\u001b[1mwandb\u001b[0m: \u001b[33mWARNING\u001b[0m Calling wandb.login() after wandb.init() has no effect.\n"
     ]
    },
    {
     "data": {
      "text/html": [
       "Finishing last run (ID:61mi5hb5) before initializing another..."
      ],
      "text/plain": [
       "<IPython.core.display.HTML object>"
      ]
     },
     "metadata": {},
     "output_type": "display_data"
    },
    {
     "data": {
      "text/html": [
       " View run <strong style=\"color:#cdcd00\">proto_1_gray</strong> at: <a href='https://wandb.ai/aq1systems/mbt_RCNN/runs/61mi5hb5' target=\"_blank\">https://wandb.ai/aq1systems/mbt_RCNN/runs/61mi5hb5</a><br/>Synced 6 W&B file(s), 0 media file(s), 0 artifact file(s) and 0 other file(s)"
      ],
      "text/plain": [
       "<IPython.core.display.HTML object>"
      ]
     },
     "metadata": {},
     "output_type": "display_data"
    },
    {
     "data": {
      "text/html": [
       "Find logs at: <code>./wandb/run-20231221_033618-61mi5hb5/logs</code>"
      ],
      "text/plain": [
       "<IPython.core.display.HTML object>"
      ]
     },
     "metadata": {},
     "output_type": "display_data"
    },
    {
     "data": {
      "text/html": [
       "Successfully finished last run (ID:61mi5hb5). Initializing new run:<br/>"
      ],
      "text/plain": [
       "<IPython.core.display.HTML object>"
      ]
     },
     "metadata": {},
     "output_type": "display_data"
    },
    {
     "data": {
      "text/html": [
       "Tracking run with wandb version 0.16.1"
      ],
      "text/plain": [
       "<IPython.core.display.HTML object>"
      ]
     },
     "metadata": {},
     "output_type": "display_data"
    },
    {
     "data": {
      "text/html": [
       "Run data is saved locally in <code>/mnt/batch/tasks/shared/LS_root/mounts/clusters/heeyo2/code/Users/heeyo/2_Torch_Object_Detection/wandb/run-20231221_033625-k9uso9u1</code>"
      ],
      "text/plain": [
       "<IPython.core.display.HTML object>"
      ]
     },
     "metadata": {},
     "output_type": "display_data"
    },
    {
     "data": {
      "text/html": [
       "Syncing run <strong><a href='https://wandb.ai/aq1systems/mbt_RCNN/runs/k9uso9u1' target=\"_blank\">proto_1_gray</a></strong> to <a href='https://wandb.ai/aq1systems/mbt_RCNN' target=\"_blank\">Weights & Biases</a> (<a href='https://wandb.me/run' target=\"_blank\">docs</a>)<br/>"
      ],
      "text/plain": [
       "<IPython.core.display.HTML object>"
      ]
     },
     "metadata": {},
     "output_type": "display_data"
    },
    {
     "data": {
      "text/html": [
       " View project at <a href='https://wandb.ai/aq1systems/mbt_RCNN' target=\"_blank\">https://wandb.ai/aq1systems/mbt_RCNN</a>"
      ],
      "text/plain": [
       "<IPython.core.display.HTML object>"
      ]
     },
     "metadata": {},
     "output_type": "display_data"
    },
    {
     "data": {
      "text/html": [
       " View run at <a href='https://wandb.ai/aq1systems/mbt_RCNN/runs/k9uso9u1' target=\"_blank\">https://wandb.ai/aq1systems/mbt_RCNN/runs/k9uso9u1</a>"
      ],
      "text/plain": [
       "<IPython.core.display.HTML object>"
      ]
     },
     "metadata": {},
     "output_type": "display_data"
    },
    {
     "data": {
      "text/plain": [
       "[]"
      ]
     },
     "execution_count": 57,
     "metadata": {},
     "output_type": "execute_result"
    }
   ],
   "source": [
    "import wandb\n",
    "# from utils.wandbutils import log_to_wandb \n",
    "hm_api_key = \"5bc9ab59d9422a7fc33e19d0de9014cda1ce4233\"\n",
    "wandb.login(key=hm_api_key)\n",
    "\n",
    "# Initialize a new W&B run\n",
    "wandb.init(\n",
    "    project=\"mbt_RCNN\", \n",
    "    name='proto_1_gray',\n",
    ")\n",
    "\n",
    "# log config file to W&B\n",
    "# wandb.save(\"data/hyp.scratch.custom.yaml\")\n",
    "\n",
    "# Add other hyperparameters as needed\n",
    "wandb.config.epochs = 100\n",
    "wandb.config.batch_size = 2\n",
    "wandb.config.input_image_size = 1300\n",
    "wandb.config.learning_rate = 0.01\n",
    "wandb.config.momentum = 0.8\n",
    "wandb.config.weight_decay = 0.0005\n",
    "\n",
    "wandb.watch(detection_model, log_freq=100)"
   ]
  },
  {
   "cell_type": "code",
   "execution_count": 58,
   "id": "14e6dc1b-c005-4c3b-8eb3-2ac3bf925a49",
   "metadata": {
    "collapsed": false,
    "gather": {
     "logged": 1703031305653
    },
    "jupyter": {
     "outputs_hidden": false
    },
    "nteract": {
     "transient": {
      "deleting": false
     }
    }
   },
   "outputs": [],
   "source": [
    "def log_to_wandb(train_result, eval_result):\n",
    "    lr_f = float(str(train_result.meters['lr']).split()[0])\n",
    "    loss_f = float(str(train_result.meters['loss']).split()[0])\n",
    "    loss_classifier_f = float(str(train_result.meters['loss_classifier']).split()[0])\n",
    "    loss_box_reg_f = float(str(train_result.meters['loss_box_reg']).split()[0])\n",
    "    loss_objectness_f = float(str(train_result.meters['loss_objectness']).split()[0])\n",
    "    loss_rpn_box_reg_f = float(str(train_result.meters['loss_rpn_box_reg']).split()[0])\n",
    "\n",
    "    ap75 = eval_result[\"(AP)0.75\"]\n",
    "    ap50 = eval_result[\"(AP)0.50\"]\n",
    "    ap5095 = eval_result[\"(AP)0.50:0.95\"]\n",
    "    ar5095 = eval_result[\"(AR)0.50:0.95\"]\n",
    "\n",
    "    wandb.log({\"learning rate\":lr_f,\n",
    "               \"loss\":loss_f,\n",
    "               \"loss_classifier\":loss_classifier_f,\n",
    "               \"loss_box_reg\":loss_box_reg_f,\n",
    "               \"loss_objectness\":loss_objectness_f,\n",
    "               \"loss_rpn_box_reg\":loss_rpn_box_reg_f,\n",
    "               \"Avg Precision 0.75\":ap75,\n",
    "               \"Avg Precision 0.50\":ap50,\n",
    "               \"Avg Precision 0.50:0.95\":ap5095,\n",
    "               \"Avg Recall 0.50:0.95\":ar5095,})\n",
    "    \n",
    "    if lr_f == 0 :\n",
    "        return True\n",
    "    return False"
   ]
  },
  {
   "cell_type": "code",
   "execution_count": 59,
   "id": "233dba7f-257b-46fe-a10d-33a877c74cd1",
   "metadata": {
    "gather": {
     "logged": 1703031305787
    },
    "tags": []
   },
   "outputs": [],
   "source": [
    "def training(model, train_loader, val_loader, epochs=10, patience=20):\n",
    "    # init valiables\n",
    "    cur_patience = patience\n",
    "    min_loss = float('inf')\n",
    "    \n",
    "    # construct an optimizer\n",
    "    params = [p for p in model.parameters() if p.requires_grad]\n",
    "    optimizer = torch.optim.SGD(params, lr=0.01,\n",
    "                                momentum=0.8, weight_decay=0.0005)\n",
    "    # and a learning rate scheduler\n",
    "    lr_scheduler = torch.optim.lr_scheduler.StepLR(optimizer,\n",
    "                                                   step_size=3,\n",
    "                                                   gamma=0.1)\n",
    "    for epoch in range(epochs):\n",
    "        # train for one epoch, printing every 10 iterations\n",
    "        train_result = train_one_epoch(model, optimizer, train_loader, device, epoch, print_freq=120)\n",
    "        # update the learning rate\n",
    "        lr_scheduler.step()\n",
    "        # evaluate on the test dataset\n",
    "        eval_result = evaluate(model, val_loader, device=device)\n",
    "\n",
    "        # wandb log\n",
    "        lr_is_zero = log_to_wandb(train_result, eval_result.eval_result)\n",
    "\n",
    "        # early stopping function\n",
    "        cur_loss = float(str(train_result.meters['loss']).split()[0])\n",
    "\n",
    "        if cur_loss < min_loss : \n",
    "            min_loss = cur_loss # update min loss\n",
    "            torch.save(detection_model.state_dict(), model_save_name+'_best.pt') # save the best model\n",
    "            cur_patience = patience # reset patience\n",
    "            print(\"reset patience, saved model\")\n",
    "        else :\n",
    "            cur_patience -= 1\n",
    "            print(\"current patience:\",cur_patience, \"current loss: \",cur_loss, \"best loss: \", min_loss)\n",
    "\n",
    "        if cur_patience == 0 or lr_is_zero : # reach early stop\n",
    "            print(\"early stop at epoch {} due to no loss improve for {} epochs\".format(epoch,patience))\n",
    "            wandb.config.epochs = epoch\n",
    "            break"
   ]
  },
  {
   "cell_type": "code",
   "execution_count": 60,
   "id": "b0b349dc",
   "metadata": {
    "gather": {
     "logged": 1703031471956
    },
    "tags": []
   },
   "outputs": [
    {
     "name": "stdout",
     "output_type": "stream",
     "text": [
      "Epoch: [0]  [  0/133]  eta: 0:02:09  lr: 0.000086  loss: 0.4603 (0.4603)  loss_classifier: 0.1869 (0.1869)  loss_box_reg: 0.2430 (0.2430)  loss_objectness: 0.0165 (0.0165)  loss_rpn_box_reg: 0.0139 (0.0139)  time: 0.9719  data: 0.4619  max mem: 2473\n",
      "Epoch: [0]  [120/133]  eta: 0:00:05  lr: 0.009168  loss: 0.3710 (0.4219)  loss_classifier: 0.1300 (0.1405)  loss_box_reg: 0.1999 (0.2376)  loss_objectness: 0.0103 (0.0198)  loss_rpn_box_reg: 0.0171 (0.0241)  time: 0.4509  data: 0.0081  max mem: 3168\n",
      "Epoch: [0]  [132/133]  eta: 0:00:00  lr: 0.010000  loss: 0.3710 (0.4196)  loss_classifier: 0.1223 (0.1390)  loss_box_reg: 0.2327 (0.2375)  loss_objectness: 0.0060 (0.0192)  loss_rpn_box_reg: 0.0154 (0.0239)  time: 0.4420  data: 0.0080  max mem: 3168\n",
      "Epoch: [0] Total time: 0:01:00 (0.4572 s / it)\n",
      "creating index...\n",
      "index created!\n",
      "Test:  [ 0/59]  eta: 0:00:29  model_time: 0.1526 (0.1526)  evaluator_time: 0.1068 (0.1068)  time: 0.5072  data: 0.2453  max mem: 3168\n",
      "Test:  [58/59]  eta: 0:00:00  model_time: 0.0928 (0.0950)  evaluator_time: 0.0032 (0.0088)  time: 0.1062  data: 0.0043  max mem: 3168\n",
      "Test: Total time: 0:00:06 (0.1152 s / it)\n",
      "Averaged stats: model_time: 0.0928 (0.0950)  evaluator_time: 0.0032 (0.0088)\n",
      "Accumulating evaluation results...\n",
      "DONE (t=0.02s).\n",
      "IoU metric: bbox\n",
      " Average Precision  (AP) @[ IoU=0.50:0.95 | area=   all | maxDets=100 ] = 0.490\n",
      " Average Precision  (AP) @[ IoU=0.50      | area=   all | maxDets=100 ] = 0.836\n",
      " Average Precision  (AP) @[ IoU=0.75      | area=   all | maxDets=100 ] = 0.548\n",
      " Average Precision  (AP) @[ IoU=0.50:0.95 | area= small | maxDets=100 ] = 0.525\n",
      " Average Precision  (AP) @[ IoU=0.50:0.95 | area=medium | maxDets=100 ] = 0.322\n",
      " Average Precision  (AP) @[ IoU=0.50:0.95 | area= large | maxDets=100 ] = 0.528\n",
      " Average Recall     (AR) @[ IoU=0.50:0.95 | area=   all | maxDets=  1 ] = 0.071\n",
      " Average Recall     (AR) @[ IoU=0.50:0.95 | area=   all | maxDets= 10 ] = 0.360\n",
      " Average Recall     (AR) @[ IoU=0.50:0.95 | area=   all | maxDets=100 ] = 0.568\n",
      " Average Recall     (AR) @[ IoU=0.50:0.95 | area= small | maxDets=100 ] = 0.550\n",
      " Average Recall     (AR) @[ IoU=0.50:0.95 | area=medium | maxDets=100 ] = 0.475\n",
      " Average Recall     (AR) @[ IoU=0.50:0.95 | area= large | maxDets=100 ] = 0.592\n",
      "reset patience, saved model\n",
      "Epoch: [1]  [  0/133]  eta: 0:02:06  lr: 0.010000  loss: 0.1604 (0.1604)  loss_classifier: 0.0394 (0.0394)  loss_box_reg: 0.1086 (0.1086)  loss_objectness: 0.0028 (0.0028)  loss_rpn_box_reg: 0.0095 (0.0095)  time: 0.9512  data: 0.4360  max mem: 3168\n",
      "Epoch: [1]  [120/133]  eta: 0:00:06  lr: 0.010000  loss: 0.3473 (0.4445)  loss_classifier: 0.0983 (0.1476)  loss_box_reg: 0.1975 (0.2436)  loss_objectness: 0.0091 (0.0260)  loss_rpn_box_reg: 0.0155 (0.0274)  time: 0.4668  data: 0.0084  max mem: 3168\n",
      "Epoch: [1]  [132/133]  eta: 0:00:00  lr: 0.010000  loss: 0.3582 (0.4338)  loss_classifier: 0.1100 (0.1439)  loss_box_reg: 0.1966 (0.2393)  loss_objectness: 0.0052 (0.0243)  loss_rpn_box_reg: 0.0131 (0.0263)  time: 0.4600  data: 0.0082  max mem: 3168\n",
      "Epoch: [1] Total time: 0:01:02 (0.4669 s / it)\n",
      "creating index...\n",
      "index created!\n",
      "Test:  [ 0/59]  eta: 0:00:29  model_time: 0.1428 (0.1428)  evaluator_time: 0.0971 (0.0971)  time: 0.4966  data: 0.2541  max mem: 3168\n",
      "Test:  [58/59]  eta: 0:00:00  model_time: 0.0951 (0.0964)  evaluator_time: 0.0023 (0.0078)  time: 0.1071  data: 0.0046  max mem: 3168\n",
      "Test: Total time: 0:00:06 (0.1156 s / it)\n",
      "Averaged stats: model_time: 0.0951 (0.0964)  evaluator_time: 0.0023 (0.0078)\n",
      "Accumulating evaluation results...\n",
      "DONE (t=0.02s).\n",
      "IoU metric: bbox\n",
      " Average Precision  (AP) @[ IoU=0.50:0.95 | area=   all | maxDets=100 ] = 0.689\n",
      " Average Precision  (AP) @[ IoU=0.50      | area=   all | maxDets=100 ] = 0.936\n",
      " Average Precision  (AP) @[ IoU=0.75      | area=   all | maxDets=100 ] = 0.802\n",
      " Average Precision  (AP) @[ IoU=0.50:0.95 | area= small | maxDets=100 ] = 0.401\n",
      " Average Precision  (AP) @[ IoU=0.50:0.95 | area=medium | maxDets=100 ] = 0.500\n",
      " Average Precision  (AP) @[ IoU=0.50:0.95 | area= large | maxDets=100 ] = 0.731\n",
      " Average Recall     (AR) @[ IoU=0.50:0.95 | area=   all | maxDets=  1 ] = 0.086\n",
      " Average Recall     (AR) @[ IoU=0.50:0.95 | area=   all | maxDets= 10 ] = 0.443\n",
      " Average Recall     (AR) @[ IoU=0.50:0.95 | area=   all | maxDets=100 ] = 0.734\n",
      " Average Recall     (AR) @[ IoU=0.50:0.95 | area= small | maxDets=100 ] = 0.400\n",
      " Average Recall     (AR) @[ IoU=0.50:0.95 | area=medium | maxDets=100 ] = 0.587\n",
      " Average Recall     (AR) @[ IoU=0.50:0.95 | area= large | maxDets=100 ] = 0.772\n",
      "reset patience, saved model\n",
      "Epoch: [2]  [  0/133]  eta: 0:03:00  lr: 0.010000  loss: 0.2778 (0.2778)  loss_classifier: 0.1035 (0.1035)  loss_box_reg: 0.1574 (0.1574)  loss_objectness: 0.0060 (0.0060)  loss_rpn_box_reg: 0.0109 (0.0109)  time: 1.3579  data: 0.8481  max mem: 3168\n",
      "Epoch: [2]  [120/133]  eta: 0:00:06  lr: 0.010000  loss: 0.3501 (0.3862)  loss_classifier: 0.1037 (0.1272)  loss_box_reg: 0.2035 (0.2246)  loss_objectness: 0.0066 (0.0120)  loss_rpn_box_reg: 0.0170 (0.0224)  time: 0.4867  data: 0.0093  max mem: 3168\n",
      "Epoch: [2]  [132/133]  eta: 0:00:00  lr: 0.010000  loss: 0.2606 (0.3856)  loss_classifier: 0.0864 (0.1267)  loss_box_reg: 0.1406 (0.2235)  loss_objectness: 0.0104 (0.0134)  loss_rpn_box_reg: 0.0053 (0.0220)  time: 0.4630  data: 0.0093  max mem: 3168\n",
      "Epoch: [2] Total time: 0:01:03 (0.4779 s / it)\n",
      "creating index...\n",
      "index created!\n",
      "Test:  [ 0/59]  eta: 0:00:28  model_time: 0.1502 (0.1502)  evaluator_time: 0.1032 (0.1032)  time: 0.4895  data: 0.2333  max mem: 3168\n",
      "Test:  [58/59]  eta: 0:00:00  model_time: 0.0958 (0.0971)  evaluator_time: 0.0018 (0.0076)  time: 0.1081  data: 0.0043  max mem: 3168\n",
      "Test: Total time: 0:00:06 (0.1163 s / it)\n",
      "Averaged stats: model_time: 0.0958 (0.0971)  evaluator_time: 0.0018 (0.0076)\n",
      "Accumulating evaluation results...\n",
      "DONE (t=0.02s).\n",
      "IoU metric: bbox\n",
      " Average Precision  (AP) @[ IoU=0.50:0.95 | area=   all | maxDets=100 ] = 0.691\n",
      " Average Precision  (AP) @[ IoU=0.50      | area=   all | maxDets=100 ] = 0.934\n",
      " Average Precision  (AP) @[ IoU=0.75      | area=   all | maxDets=100 ] = 0.825\n",
      " Average Precision  (AP) @[ IoU=0.50:0.95 | area= small | maxDets=100 ] = 0.402\n",
      " Average Precision  (AP) @[ IoU=0.50:0.95 | area=medium | maxDets=100 ] = 0.495\n",
      " Average Precision  (AP) @[ IoU=0.50:0.95 | area= large | maxDets=100 ] = 0.737\n",
      " Average Recall     (AR) @[ IoU=0.50:0.95 | area=   all | maxDets=  1 ] = 0.088\n",
      " Average Recall     (AR) @[ IoU=0.50:0.95 | area=   all | maxDets= 10 ] = 0.446\n",
      " Average Recall     (AR) @[ IoU=0.50:0.95 | area=   all | maxDets=100 ] = 0.735\n",
      " Average Recall     (AR) @[ IoU=0.50:0.95 | area= small | maxDets=100 ] = 0.400\n",
      " Average Recall     (AR) @[ IoU=0.50:0.95 | area=medium | maxDets=100 ] = 0.571\n",
      " Average Recall     (AR) @[ IoU=0.50:0.95 | area= large | maxDets=100 ] = 0.777\n",
      "reset patience, saved model\n",
      "Epoch: [3]  [  0/133]  eta: 0:02:46  lr: 0.001000  loss: 0.3761 (0.3761)  loss_classifier: 0.1290 (0.1290)  loss_box_reg: 0.2226 (0.2226)  loss_objectness: 0.0153 (0.0153)  loss_rpn_box_reg: 0.0091 (0.0091)  time: 1.2511  data: 0.5749  max mem: 3168\n",
      "Epoch: [3]  [120/133]  eta: 0:00:06  lr: 0.001000  loss: 0.3328 (0.3643)  loss_classifier: 0.1094 (0.1189)  loss_box_reg: 0.1966 (0.2122)  loss_objectness: 0.0102 (0.0133)  loss_rpn_box_reg: 0.0140 (0.0198)  time: 0.4721  data: 0.0085  max mem: 3168\n",
      "Epoch: [3]  [132/133]  eta: 0:00:00  lr: 0.001000  loss: 0.2383 (0.3507)  loss_classifier: 0.0803 (0.1148)  loss_box_reg: 0.1325 (0.2043)  loss_objectness: 0.0063 (0.0126)  loss_rpn_box_reg: 0.0104 (0.0189)  time: 0.4616  data: 0.0084  max mem: 3168\n",
      "Epoch: [3] Total time: 0:01:03 (0.4810 s / it)\n",
      "creating index...\n",
      "index created!\n",
      "Test:  [ 0/59]  eta: 0:00:27  model_time: 0.1511 (0.1511)  evaluator_time: 0.1003 (0.1003)  time: 0.4717  data: 0.2175  max mem: 3168\n",
      "Test:  [58/59]  eta: 0:00:00  model_time: 0.0968 (0.0986)  evaluator_time: 0.0019 (0.0077)  time: 0.1084  data: 0.0042  max mem: 3168\n",
      "Test: Total time: 0:00:07 (0.1208 s / it)\n",
      "Averaged stats: model_time: 0.0968 (0.0986)  evaluator_time: 0.0019 (0.0077)\n",
      "Accumulating evaluation results...\n",
      "DONE (t=0.02s).\n",
      "IoU metric: bbox\n",
      " Average Precision  (AP) @[ IoU=0.50:0.95 | area=   all | maxDets=100 ] = 0.717\n",
      " Average Precision  (AP) @[ IoU=0.50      | area=   all | maxDets=100 ] = 0.935\n",
      " Average Precision  (AP) @[ IoU=0.75      | area=   all | maxDets=100 ] = 0.838\n",
      " Average Precision  (AP) @[ IoU=0.50:0.95 | area= small | maxDets=100 ] = 0.650\n",
      " Average Precision  (AP) @[ IoU=0.50:0.95 | area=medium | maxDets=100 ] = 0.527\n",
      " Average Precision  (AP) @[ IoU=0.50:0.95 | area= large | maxDets=100 ] = 0.761\n",
      " Average Recall     (AR) @[ IoU=0.50:0.95 | area=   all | maxDets=  1 ] = 0.089\n",
      " Average Recall     (AR) @[ IoU=0.50:0.95 | area=   all | maxDets= 10 ] = 0.459\n",
      " Average Recall     (AR) @[ IoU=0.50:0.95 | area=   all | maxDets=100 ] = 0.759\n",
      " Average Recall     (AR) @[ IoU=0.50:0.95 | area= small | maxDets=100 ] = 0.650\n",
      " Average Recall     (AR) @[ IoU=0.50:0.95 | area=medium | maxDets=100 ] = 0.608\n",
      " Average Recall     (AR) @[ IoU=0.50:0.95 | area= large | maxDets=100 ] = 0.796\n",
      "reset patience, saved model\n",
      "Epoch: [4]  [  0/133]  eta: 0:01:56  lr: 0.001000  loss: 0.0675 (0.0675)  loss_classifier: 0.0212 (0.0212)  loss_box_reg: 0.0377 (0.0377)  loss_objectness: 0.0075 (0.0075)  loss_rpn_box_reg: 0.0011 (0.0011)  time: 0.8777  data: 0.3670  max mem: 3168\n",
      "Epoch: [4]  [120/133]  eta: 0:00:06  lr: 0.001000  loss: 0.2220 (0.3289)  loss_classifier: 0.0648 (0.1093)  loss_box_reg: 0.1545 (0.1932)  loss_objectness: 0.0047 (0.0089)  loss_rpn_box_reg: 0.0045 (0.0175)  time: 0.4756  data: 0.0084  max mem: 3168\n",
      "Epoch: [4]  [132/133]  eta: 0:00:00  lr: 0.001000  loss: 0.2639 (0.3323)  loss_classifier: 0.0891 (0.1095)  loss_box_reg: 0.1606 (0.1937)  loss_objectness: 0.0047 (0.0113)  loss_rpn_box_reg: 0.0106 (0.0179)  time: 0.4756  data: 0.0083  max mem: 3168\n",
      "Epoch: [4] Total time: 0:01:03 (0.4785 s / it)\n",
      "creating index...\n",
      "index created!\n",
      "Test:  [ 0/59]  eta: 0:00:36  model_time: 0.1496 (0.1496)  evaluator_time: 0.1000 (0.1000)  time: 0.6174  data: 0.3652  max mem: 3168\n",
      "Test:  [58/59]  eta: 0:00:00  model_time: 0.0952 (0.0981)  evaluator_time: 0.0020 (0.0076)  time: 0.1084  data: 0.0045  max mem: 3168\n",
      "Test: Total time: 0:00:07 (0.1194 s / it)\n",
      "Averaged stats: model_time: 0.0952 (0.0981)  evaluator_time: 0.0020 (0.0076)\n",
      "Accumulating evaluation results...\n",
      "DONE (t=0.02s).\n",
      "IoU metric: bbox\n",
      " Average Precision  (AP) @[ IoU=0.50:0.95 | area=   all | maxDets=100 ] = 0.721\n",
      " Average Precision  (AP) @[ IoU=0.50      | area=   all | maxDets=100 ] = 0.947\n",
      " Average Precision  (AP) @[ IoU=0.75      | area=   all | maxDets=100 ] = 0.841\n",
      " Average Precision  (AP) @[ IoU=0.50:0.95 | area= small | maxDets=100 ] = 0.600\n",
      " Average Precision  (AP) @[ IoU=0.50:0.95 | area=medium | maxDets=100 ] = 0.534\n",
      " Average Precision  (AP) @[ IoU=0.50:0.95 | area= large | maxDets=100 ] = 0.763\n",
      " Average Recall     (AR) @[ IoU=0.50:0.95 | area=   all | maxDets=  1 ] = 0.090\n",
      " Average Recall     (AR) @[ IoU=0.50:0.95 | area=   all | maxDets= 10 ] = 0.457\n",
      " Average Recall     (AR) @[ IoU=0.50:0.95 | area=   all | maxDets=100 ] = 0.760\n",
      " Average Recall     (AR) @[ IoU=0.50:0.95 | area= small | maxDets=100 ] = 0.600\n",
      " Average Recall     (AR) @[ IoU=0.50:0.95 | area=medium | maxDets=100 ] = 0.610\n",
      " Average Recall     (AR) @[ IoU=0.50:0.95 | area= large | maxDets=100 ] = 0.798\n",
      "current patience: 19 current loss:  0.2639 best loss:  0.2383\n",
      "Epoch: [5]  [  0/133]  eta: 0:02:07  lr: 0.001000  loss: 0.3037 (0.3037)  loss_classifier: 0.1080 (0.1080)  loss_box_reg: 0.1586 (0.1586)  loss_objectness: 0.0100 (0.0100)  loss_rpn_box_reg: 0.0271 (0.0271)  time: 0.9616  data: 0.4874  max mem: 3168\n",
      "Epoch: [5]  [120/133]  eta: 0:00:06  lr: 0.001000  loss: 0.2954 (0.3328)  loss_classifier: 0.0933 (0.1094)  loss_box_reg: 0.1696 (0.1971)  loss_objectness: 0.0067 (0.0089)  loss_rpn_box_reg: 0.0096 (0.0174)  time: 0.4980  data: 0.0083  max mem: 3168\n",
      "Epoch: [5]  [132/133]  eta: 0:00:00  lr: 0.001000  loss: 0.3124 (0.3324)  loss_classifier: 0.1144 (0.1094)  loss_box_reg: 0.1782 (0.1965)  loss_objectness: 0.0065 (0.0090)  loss_rpn_box_reg: 0.0148 (0.0174)  time: 0.4682  data: 0.0081  max mem: 3168\n",
      "Epoch: [5] Total time: 0:01:04 (0.4813 s / it)\n",
      "creating index...\n",
      "index created!\n",
      "Test:  [ 0/59]  eta: 0:00:30  model_time: 0.1514 (0.1514)  evaluator_time: 0.1001 (0.1001)  time: 0.5189  data: 0.2648  max mem: 3168\n",
      "Test:  [58/59]  eta: 0:00:00  model_time: 0.0963 (0.0977)  evaluator_time: 0.0019 (0.0074)  time: 0.1090  data: 0.0050  max mem: 3168\n",
      "Test: Total time: 0:00:06 (0.1169 s / it)\n",
      "Averaged stats: model_time: 0.0963 (0.0977)  evaluator_time: 0.0019 (0.0074)\n",
      "Accumulating evaluation results...\n",
      "DONE (t=0.02s).\n",
      "IoU metric: bbox\n",
      " Average Precision  (AP) @[ IoU=0.50:0.95 | area=   all | maxDets=100 ] = 0.723\n",
      " Average Precision  (AP) @[ IoU=0.50      | area=   all | maxDets=100 ] = 0.947\n",
      " Average Precision  (AP) @[ IoU=0.75      | area=   all | maxDets=100 ] = 0.839\n",
      " Average Precision  (AP) @[ IoU=0.50:0.95 | area= small | maxDets=100 ] = 0.600\n",
      " Average Precision  (AP) @[ IoU=0.50:0.95 | area=medium | maxDets=100 ] = 0.532\n",
      " Average Precision  (AP) @[ IoU=0.50:0.95 | area= large | maxDets=100 ] = 0.766\n",
      " Average Recall     (AR) @[ IoU=0.50:0.95 | area=   all | maxDets=  1 ] = 0.091\n",
      " Average Recall     (AR) @[ IoU=0.50:0.95 | area=   all | maxDets= 10 ] = 0.457\n",
      " Average Recall     (AR) @[ IoU=0.50:0.95 | area=   all | maxDets=100 ] = 0.761\n",
      " Average Recall     (AR) @[ IoU=0.50:0.95 | area= small | maxDets=100 ] = 0.600\n",
      " Average Recall     (AR) @[ IoU=0.50:0.95 | area=medium | maxDets=100 ] = 0.608\n",
      " Average Recall     (AR) @[ IoU=0.50:0.95 | area= large | maxDets=100 ] = 0.800\n",
      "current patience: 18 current loss:  0.3124 best loss:  0.2383\n",
      "Epoch: [6]  [  0/133]  eta: 0:01:52  lr: 0.000100  loss: 0.1195 (0.1195)  loss_classifier: 0.0411 (0.0411)  loss_box_reg: 0.0748 (0.0748)  loss_objectness: 0.0007 (0.0007)  loss_rpn_box_reg: 0.0029 (0.0029)  time: 0.8494  data: 0.3890  max mem: 3168\n",
      "Epoch: [6]  [120/133]  eta: 0:00:06  lr: 0.000100  loss: 0.2144 (0.3170)  loss_classifier: 0.0753 (0.1052)  loss_box_reg: 0.1261 (0.1867)  loss_objectness: 0.0049 (0.0092)  loss_rpn_box_reg: 0.0085 (0.0159)  time: 0.4819  data: 0.0083  max mem: 3168\n",
      "Epoch: [6]  [132/133]  eta: 0:00:00  lr: 0.000100  loss: 0.2462 (0.3225)  loss_classifier: 0.0805 (0.1068)  loss_box_reg: 0.1524 (0.1897)  loss_objectness: 0.0045 (0.0093)  loss_rpn_box_reg: 0.0089 (0.0166)  time: 0.4640  data: 0.0082  max mem: 3168\n",
      "Epoch: [6] Total time: 0:01:04 (0.4819 s / it)\n",
      "creating index...\n",
      "index created!\n",
      "Test:  [ 0/59]  eta: 0:00:27  model_time: 0.1494 (0.1494)  evaluator_time: 0.0995 (0.0995)  time: 0.4641  data: 0.2127  max mem: 3168\n",
      "Test:  [58/59]  eta: 0:00:00  model_time: 0.0963 (0.0979)  evaluator_time: 0.0018 (0.0074)  time: 0.1082  data: 0.0044  max mem: 3168\n",
      "Test: Total time: 0:00:06 (0.1163 s / it)\n",
      "Averaged stats: model_time: 0.0963 (0.0979)  evaluator_time: 0.0018 (0.0074)\n",
      "Accumulating evaluation results...\n",
      "DONE (t=0.02s).\n",
      "IoU metric: bbox\n",
      " Average Precision  (AP) @[ IoU=0.50:0.95 | area=   all | maxDets=100 ] = 0.728\n",
      " Average Precision  (AP) @[ IoU=0.50      | area=   all | maxDets=100 ] = 0.941\n",
      " Average Precision  (AP) @[ IoU=0.75      | area=   all | maxDets=100 ] = 0.841\n",
      " Average Precision  (AP) @[ IoU=0.50:0.95 | area= small | maxDets=100 ] = 0.600\n",
      " Average Precision  (AP) @[ IoU=0.50:0.95 | area=medium | maxDets=100 ] = 0.542\n",
      " Average Precision  (AP) @[ IoU=0.50:0.95 | area= large | maxDets=100 ] = 0.769\n",
      " Average Recall     (AR) @[ IoU=0.50:0.95 | area=   all | maxDets=  1 ] = 0.090\n",
      " Average Recall     (AR) @[ IoU=0.50:0.95 | area=   all | maxDets= 10 ] = 0.462\n",
      " Average Recall     (AR) @[ IoU=0.50:0.95 | area=   all | maxDets=100 ] = 0.766\n",
      " Average Recall     (AR) @[ IoU=0.50:0.95 | area= small | maxDets=100 ] = 0.600\n",
      " Average Recall     (AR) @[ IoU=0.50:0.95 | area=medium | maxDets=100 ] = 0.622\n",
      " Average Recall     (AR) @[ IoU=0.50:0.95 | area= large | maxDets=100 ] = 0.802\n",
      "current patience: 17 current loss:  0.2462 best loss:  0.2383\n",
      "Epoch: [7]  [  0/133]  eta: 0:02:10  lr: 0.000100  loss: 0.4989 (0.4989)  loss_classifier: 0.1753 (0.1753)  loss_box_reg: 0.2763 (0.2763)  loss_objectness: 0.0169 (0.0169)  loss_rpn_box_reg: 0.0304 (0.0304)  time: 0.9817  data: 0.5255  max mem: 3168\n",
      "Epoch: [7]  [120/133]  eta: 0:00:06  lr: 0.000100  loss: 0.2559 (0.3155)  loss_classifier: 0.0774 (0.1028)  loss_box_reg: 0.1606 (0.1886)  loss_objectness: 0.0044 (0.0081)  loss_rpn_box_reg: 0.0067 (0.0161)  time: 0.4784  data: 0.0082  max mem: 3168\n",
      "Epoch: [7]  [132/133]  eta: 0:00:00  lr: 0.000100  loss: 0.2938 (0.3190)  loss_classifier: 0.0975 (0.1043)  loss_box_reg: 0.1760 (0.1906)  loss_objectness: 0.0048 (0.0080)  loss_rpn_box_reg: 0.0119 (0.0161)  time: 0.4719  data: 0.0081  max mem: 3168\n",
      "Epoch: [7] Total time: 0:01:04 (0.4821 s / it)\n",
      "creating index...\n",
      "index created!\n",
      "Test:  [ 0/59]  eta: 0:00:29  model_time: 0.1531 (0.1531)  evaluator_time: 0.1004 (0.1004)  time: 0.5018  data: 0.2458  max mem: 3168\n",
      "Test:  [58/59]  eta: 0:00:00  model_time: 0.0955 (0.0977)  evaluator_time: 0.0021 (0.0074)  time: 0.1077  data: 0.0044  max mem: 3168\n",
      "Test: Total time: 0:00:06 (0.1166 s / it)\n",
      "Averaged stats: model_time: 0.0955 (0.0977)  evaluator_time: 0.0021 (0.0074)\n",
      "Accumulating evaluation results...\n",
      "DONE (t=0.02s).\n",
      "IoU metric: bbox\n",
      " Average Precision  (AP) @[ IoU=0.50:0.95 | area=   all | maxDets=100 ] = 0.725\n",
      " Average Precision  (AP) @[ IoU=0.50      | area=   all | maxDets=100 ] = 0.941\n",
      " Average Precision  (AP) @[ IoU=0.75      | area=   all | maxDets=100 ] = 0.841\n",
      " Average Precision  (AP) @[ IoU=0.50:0.95 | area= small | maxDets=100 ] = 0.600\n",
      " Average Precision  (AP) @[ IoU=0.50:0.95 | area=medium | maxDets=100 ] = 0.537\n",
      " Average Precision  (AP) @[ IoU=0.50:0.95 | area= large | maxDets=100 ] = 0.767\n",
      " Average Recall     (AR) @[ IoU=0.50:0.95 | area=   all | maxDets=  1 ] = 0.090\n",
      " Average Recall     (AR) @[ IoU=0.50:0.95 | area=   all | maxDets= 10 ] = 0.460\n",
      " Average Recall     (AR) @[ IoU=0.50:0.95 | area=   all | maxDets=100 ] = 0.762\n",
      " Average Recall     (AR) @[ IoU=0.50:0.95 | area= small | maxDets=100 ] = 0.600\n",
      " Average Recall     (AR) @[ IoU=0.50:0.95 | area=medium | maxDets=100 ] = 0.614\n",
      " Average Recall     (AR) @[ IoU=0.50:0.95 | area= large | maxDets=100 ] = 0.799\n",
      "current patience: 16 current loss:  0.2938 best loss:  0.2383\n",
      "Epoch: [8]  [  0/133]  eta: 0:02:07  lr: 0.000100  loss: 0.1733 (0.1733)  loss_classifier: 0.0538 (0.0538)  loss_box_reg: 0.1122 (0.1122)  loss_objectness: 0.0025 (0.0025)  loss_rpn_box_reg: 0.0048 (0.0048)  time: 0.9612  data: 0.5069  max mem: 3168\n",
      "Epoch: [8]  [120/133]  eta: 0:00:06  lr: 0.000100  loss: 0.2958 (0.2985)  loss_classifier: 0.1013 (0.0974)  loss_box_reg: 0.1667 (0.1774)  loss_objectness: 0.0032 (0.0077)  loss_rpn_box_reg: 0.0110 (0.0159)  time: 0.4741  data: 0.0092  max mem: 3168\n",
      "Epoch: [8]  [132/133]  eta: 0:00:00  lr: 0.000100  loss: 0.2596 (0.3078)  loss_classifier: 0.0864 (0.1004)  loss_box_reg: 0.1657 (0.1822)  loss_objectness: 0.0035 (0.0084)  loss_rpn_box_reg: 0.0116 (0.0168)  time: 0.4626  data: 0.0091  max mem: 3168\n",
      "Epoch: [8] Total time: 0:01:03 (0.4797 s / it)\n",
      "creating index...\n",
      "index created!\n",
      "Test:  [ 0/59]  eta: 0:00:26  model_time: 0.1449 (0.1449)  evaluator_time: 0.1006 (0.1006)  time: 0.4547  data: 0.2061  max mem: 3168\n",
      "Test:  [58/59]  eta: 0:00:00  model_time: 0.0960 (0.0977)  evaluator_time: 0.0018 (0.0074)  time: 0.1087  data: 0.0046  max mem: 3168\n",
      "Test: Total time: 0:00:06 (0.1164 s / it)\n",
      "Averaged stats: model_time: 0.0960 (0.0977)  evaluator_time: 0.0018 (0.0074)\n",
      "Accumulating evaluation results...\n",
      "DONE (t=0.02s).\n",
      "IoU metric: bbox\n",
      " Average Precision  (AP) @[ IoU=0.50:0.95 | area=   all | maxDets=100 ] = 0.727\n",
      " Average Precision  (AP) @[ IoU=0.50      | area=   all | maxDets=100 ] = 0.941\n",
      " Average Precision  (AP) @[ IoU=0.75      | area=   all | maxDets=100 ] = 0.843\n",
      " Average Precision  (AP) @[ IoU=0.50:0.95 | area= small | maxDets=100 ] = 0.600\n",
      " Average Precision  (AP) @[ IoU=0.50:0.95 | area=medium | maxDets=100 ] = 0.540\n",
      " Average Precision  (AP) @[ IoU=0.50:0.95 | area= large | maxDets=100 ] = 0.771\n",
      " Average Recall     (AR) @[ IoU=0.50:0.95 | area=   all | maxDets=  1 ] = 0.090\n",
      " Average Recall     (AR) @[ IoU=0.50:0.95 | area=   all | maxDets= 10 ] = 0.463\n",
      " Average Recall     (AR) @[ IoU=0.50:0.95 | area=   all | maxDets=100 ] = 0.765\n",
      " Average Recall     (AR) @[ IoU=0.50:0.95 | area= small | maxDets=100 ] = 0.600\n",
      " Average Recall     (AR) @[ IoU=0.50:0.95 | area=medium | maxDets=100 ] = 0.617\n",
      " Average Recall     (AR) @[ IoU=0.50:0.95 | area= large | maxDets=100 ] = 0.802\n",
      "current patience: 15 current loss:  0.2596 best loss:  0.2383\n",
      "Epoch: [9]  [  0/133]  eta: 0:02:12  lr: 0.000010  loss: 0.4398 (0.4398)  loss_classifier: 0.1312 (0.1312)  loss_box_reg: 0.2968 (0.2968)  loss_objectness: 0.0042 (0.0042)  loss_rpn_box_reg: 0.0075 (0.0075)  time: 0.9938  data: 0.5434  max mem: 3168\n",
      "Epoch: [9]  [120/133]  eta: 0:00:06  lr: 0.000010  loss: 0.2871 (0.3073)  loss_classifier: 0.0931 (0.1020)  loss_box_reg: 0.1698 (0.1808)  loss_objectness: 0.0029 (0.0088)  loss_rpn_box_reg: 0.0127 (0.0157)  time: 0.4950  data: 0.0082  max mem: 3168\n",
      "Epoch: [9]  [132/133]  eta: 0:00:00  lr: 0.000010  loss: 0.2935 (0.3166)  loss_classifier: 0.0964 (0.1053)  loss_box_reg: 0.1740 (0.1852)  loss_objectness: 0.0073 (0.0091)  loss_rpn_box_reg: 0.0185 (0.0170)  time: 0.4621  data: 0.0082  max mem: 3168\n",
      "Epoch: [9] Total time: 0:01:04 (0.4828 s / it)\n",
      "creating index...\n",
      "index created!\n",
      "Test:  [ 0/59]  eta: 0:00:27  model_time: 0.1489 (0.1489)  evaluator_time: 0.1013 (0.1013)  time: 0.4717  data: 0.2188  max mem: 3168\n",
      "Test:  [58/59]  eta: 0:00:00  model_time: 0.0958 (0.0978)  evaluator_time: 0.0019 (0.0074)  time: 0.1084  data: 0.0044  max mem: 3168\n",
      "Test: Total time: 0:00:06 (0.1164 s / it)\n",
      "Averaged stats: model_time: 0.0958 (0.0978)  evaluator_time: 0.0019 (0.0074)\n",
      "Accumulating evaluation results...\n",
      "DONE (t=0.02s).\n",
      "IoU metric: bbox\n",
      " Average Precision  (AP) @[ IoU=0.50:0.95 | area=   all | maxDets=100 ] = 0.727\n",
      " Average Precision  (AP) @[ IoU=0.50      | area=   all | maxDets=100 ] = 0.941\n",
      " Average Precision  (AP) @[ IoU=0.75      | area=   all | maxDets=100 ] = 0.842\n",
      " Average Precision  (AP) @[ IoU=0.50:0.95 | area= small | maxDets=100 ] = 0.600\n",
      " Average Precision  (AP) @[ IoU=0.50:0.95 | area=medium | maxDets=100 ] = 0.540\n",
      " Average Precision  (AP) @[ IoU=0.50:0.95 | area= large | maxDets=100 ] = 0.770\n",
      " Average Recall     (AR) @[ IoU=0.50:0.95 | area=   all | maxDets=  1 ] = 0.090\n",
      " Average Recall     (AR) @[ IoU=0.50:0.95 | area=   all | maxDets= 10 ] = 0.462\n",
      " Average Recall     (AR) @[ IoU=0.50:0.95 | area=   all | maxDets=100 ] = 0.765\n",
      " Average Recall     (AR) @[ IoU=0.50:0.95 | area= small | maxDets=100 ] = 0.600\n",
      " Average Recall     (AR) @[ IoU=0.50:0.95 | area=medium | maxDets=100 ] = 0.617\n",
      " Average Recall     (AR) @[ IoU=0.50:0.95 | area= large | maxDets=100 ] = 0.802\n",
      "current patience: 14 current loss:  0.2935 best loss:  0.2383\n",
      "Epoch: [10]  [  0/133]  eta: 0:01:54  lr: 0.000010  loss: 0.2467 (0.2467)  loss_classifier: 0.0934 (0.0934)  loss_box_reg: 0.1377 (0.1377)  loss_objectness: 0.0056 (0.0056)  loss_rpn_box_reg: 0.0100 (0.0100)  time: 0.8639  data: 0.3996  max mem: 3168\n",
      "Epoch: [10]  [120/133]  eta: 0:00:06  lr: 0.000010  loss: 0.2920 (0.3139)  loss_classifier: 0.1129 (0.1037)  loss_box_reg: 0.1523 (0.1841)  loss_objectness: 0.0032 (0.0091)  loss_rpn_box_reg: 0.0139 (0.0170)  time: 0.4793  data: 0.0084  max mem: 3168\n",
      "Epoch: [10]  [132/133]  eta: 0:00:00  lr: 0.000010  loss: 0.3295 (0.3128)  loss_classifier: 0.1055 (0.1033)  loss_box_reg: 0.1889 (0.1841)  loss_objectness: 0.0027 (0.0087)  loss_rpn_box_reg: 0.0112 (0.0167)  time: 0.4744  data: 0.0082  max mem: 3168\n",
      "Epoch: [10] Total time: 0:01:04 (0.4818 s / it)\n",
      "creating index...\n",
      "index created!\n",
      "Test:  [ 0/59]  eta: 0:00:40  model_time: 0.1412 (0.1412)  evaluator_time: 0.1010 (0.1010)  time: 0.6843  data: 0.4396  max mem: 3168\n",
      "Test:  [58/59]  eta: 0:00:00  model_time: 0.0963 (0.0982)  evaluator_time: 0.0022 (0.0074)  time: 0.1086  data: 0.0044  max mem: 3168\n",
      "Test: Total time: 0:00:07 (0.1206 s / it)\n",
      "Averaged stats: model_time: 0.0963 (0.0982)  evaluator_time: 0.0022 (0.0074)\n",
      "Accumulating evaluation results...\n",
      "DONE (t=0.02s).\n",
      "IoU metric: bbox\n",
      " Average Precision  (AP) @[ IoU=0.50:0.95 | area=   all | maxDets=100 ] = 0.726\n",
      " Average Precision  (AP) @[ IoU=0.50      | area=   all | maxDets=100 ] = 0.941\n",
      " Average Precision  (AP) @[ IoU=0.75      | area=   all | maxDets=100 ] = 0.842\n",
      " Average Precision  (AP) @[ IoU=0.50:0.95 | area= small | maxDets=100 ] = 0.600\n",
      " Average Precision  (AP) @[ IoU=0.50:0.95 | area=medium | maxDets=100 ] = 0.541\n",
      " Average Precision  (AP) @[ IoU=0.50:0.95 | area= large | maxDets=100 ] = 0.770\n",
      " Average Recall     (AR) @[ IoU=0.50:0.95 | area=   all | maxDets=  1 ] = 0.090\n",
      " Average Recall     (AR) @[ IoU=0.50:0.95 | area=   all | maxDets= 10 ] = 0.462\n",
      " Average Recall     (AR) @[ IoU=0.50:0.95 | area=   all | maxDets=100 ] = 0.764\n",
      " Average Recall     (AR) @[ IoU=0.50:0.95 | area= small | maxDets=100 ] = 0.600\n",
      " Average Recall     (AR) @[ IoU=0.50:0.95 | area=medium | maxDets=100 ] = 0.617\n",
      " Average Recall     (AR) @[ IoU=0.50:0.95 | area= large | maxDets=100 ] = 0.801\n",
      "current patience: 13 current loss:  0.3295 best loss:  0.2383\n",
      "Epoch: [11]  [  0/133]  eta: 0:02:01  lr: 0.000010  loss: 0.5667 (0.5667)  loss_classifier: 0.1470 (0.1470)  loss_box_reg: 0.3280 (0.3280)  loss_objectness: 0.0314 (0.0314)  loss_rpn_box_reg: 0.0603 (0.0603)  time: 0.9157  data: 0.4514  max mem: 3168\n",
      "Epoch: [11]  [120/133]  eta: 0:00:06  lr: 0.000010  loss: 0.2905 (0.3047)  loss_classifier: 0.0791 (0.0998)  loss_box_reg: 0.1648 (0.1804)  loss_objectness: 0.0049 (0.0083)  loss_rpn_box_reg: 0.0134 (0.0162)  time: 0.4786  data: 0.0083  max mem: 3168\n",
      "Epoch: [11]  [132/133]  eta: 0:00:00  lr: 0.000010  loss: 0.2620 (0.3082)  loss_classifier: 0.0925 (0.1017)  loss_box_reg: 0.1491 (0.1820)  loss_objectness: 0.0042 (0.0083)  loss_rpn_box_reg: 0.0122 (0.0162)  time: 0.4796  data: 0.0081  max mem: 3168\n",
      "Epoch: [11] Total time: 0:01:04 (0.4817 s / it)\n",
      "creating index...\n",
      "index created!\n",
      "Test:  [ 0/59]  eta: 0:00:29  model_time: 0.1490 (0.1490)  evaluator_time: 0.0994 (0.0994)  time: 0.4958  data: 0.2450  max mem: 3168\n",
      "Test:  [58/59]  eta: 0:00:00  model_time: 0.0968 (0.0985)  evaluator_time: 0.0018 (0.0073)  time: 0.1097  data: 0.0054  max mem: 3168\n",
      "Test: Total time: 0:00:06 (0.1177 s / it)\n",
      "Averaged stats: model_time: 0.0968 (0.0985)  evaluator_time: 0.0018 (0.0073)\n",
      "Accumulating evaluation results...\n",
      "DONE (t=0.02s).\n",
      "IoU metric: bbox\n",
      " Average Precision  (AP) @[ IoU=0.50:0.95 | area=   all | maxDets=100 ] = 0.726\n",
      " Average Precision  (AP) @[ IoU=0.50      | area=   all | maxDets=100 ] = 0.941\n",
      " Average Precision  (AP) @[ IoU=0.75      | area=   all | maxDets=100 ] = 0.843\n",
      " Average Precision  (AP) @[ IoU=0.50:0.95 | area= small | maxDets=100 ] = 0.600\n",
      " Average Precision  (AP) @[ IoU=0.50:0.95 | area=medium | maxDets=100 ] = 0.541\n",
      " Average Precision  (AP) @[ IoU=0.50:0.95 | area= large | maxDets=100 ] = 0.769\n",
      " Average Recall     (AR) @[ IoU=0.50:0.95 | area=   all | maxDets=  1 ] = 0.090\n",
      " Average Recall     (AR) @[ IoU=0.50:0.95 | area=   all | maxDets= 10 ] = 0.461\n",
      " Average Recall     (AR) @[ IoU=0.50:0.95 | area=   all | maxDets=100 ] = 0.764\n",
      " Average Recall     (AR) @[ IoU=0.50:0.95 | area= small | maxDets=100 ] = 0.600\n",
      " Average Recall     (AR) @[ IoU=0.50:0.95 | area=medium | maxDets=100 ] = 0.617\n",
      " Average Recall     (AR) @[ IoU=0.50:0.95 | area= large | maxDets=100 ] = 0.801\n",
      "current patience: 12 current loss:  0.262 best loss:  0.2383\n",
      "Epoch: [12]  [  0/133]  eta: 0:02:07  lr: 0.000001  loss: 0.1816 (0.1816)  loss_classifier: 0.0660 (0.0660)  loss_box_reg: 0.1032 (0.1032)  loss_objectness: 0.0021 (0.0021)  loss_rpn_box_reg: 0.0104 (0.0104)  time: 0.9604  data: 0.4986  max mem: 3168\n",
      "Epoch: [12]  [120/133]  eta: 0:00:06  lr: 0.000001  loss: 0.2425 (0.3237)  loss_classifier: 0.0793 (0.1060)  loss_box_reg: 0.1513 (0.1918)  loss_objectness: 0.0023 (0.0081)  loss_rpn_box_reg: 0.0097 (0.0177)  time: 0.4822  data: 0.0090  max mem: 3168\n",
      "Epoch: [12]  [132/133]  eta: 0:00:00  lr: 0.000001  loss: 0.2791 (0.3186)  loss_classifier: 0.0901 (0.1041)  loss_box_reg: 0.1513 (0.1892)  loss_objectness: 0.0039 (0.0079)  loss_rpn_box_reg: 0.0060 (0.0173)  time: 0.4769  data: 0.0080  max mem: 3168\n",
      "Epoch: [12] Total time: 0:01:04 (0.4836 s / it)\n",
      "creating index...\n",
      "index created!\n",
      "Test:  [ 0/59]  eta: 0:00:27  model_time: 0.1491 (0.1491)  evaluator_time: 0.1008 (0.1008)  time: 0.4676  data: 0.2153  max mem: 3168\n",
      "Test:  [58/59]  eta: 0:00:00  model_time: 0.0963 (0.0981)  evaluator_time: 0.0018 (0.0074)  time: 0.1087  data: 0.0043  max mem: 3168\n",
      "Test: Total time: 0:00:06 (0.1165 s / it)\n",
      "Averaged stats: model_time: 0.0963 (0.0981)  evaluator_time: 0.0018 (0.0074)\n",
      "Accumulating evaluation results...\n",
      "DONE (t=0.02s).\n",
      "IoU metric: bbox\n",
      " Average Precision  (AP) @[ IoU=0.50:0.95 | area=   all | maxDets=100 ] = 0.727\n",
      " Average Precision  (AP) @[ IoU=0.50      | area=   all | maxDets=100 ] = 0.941\n",
      " Average Precision  (AP) @[ IoU=0.75      | area=   all | maxDets=100 ] = 0.848\n",
      " Average Precision  (AP) @[ IoU=0.50:0.95 | area= small | maxDets=100 ] = 0.600\n",
      " Average Precision  (AP) @[ IoU=0.50:0.95 | area=medium | maxDets=100 ] = 0.541\n",
      " Average Precision  (AP) @[ IoU=0.50:0.95 | area= large | maxDets=100 ] = 0.770\n",
      " Average Recall     (AR) @[ IoU=0.50:0.95 | area=   all | maxDets=  1 ] = 0.090\n",
      " Average Recall     (AR) @[ IoU=0.50:0.95 | area=   all | maxDets= 10 ] = 0.461\n",
      " Average Recall     (AR) @[ IoU=0.50:0.95 | area=   all | maxDets=100 ] = 0.764\n",
      " Average Recall     (AR) @[ IoU=0.50:0.95 | area= small | maxDets=100 ] = 0.600\n",
      " Average Recall     (AR) @[ IoU=0.50:0.95 | area=medium | maxDets=100 ] = 0.617\n",
      " Average Recall     (AR) @[ IoU=0.50:0.95 | area= large | maxDets=100 ] = 0.801\n",
      "current patience: 11 current loss:  0.2791 best loss:  0.2383\n",
      "Epoch: [13]  [  0/133]  eta: 0:02:57  lr: 0.000001  loss: 0.3576 (0.3576)  loss_classifier: 0.1043 (0.1043)  loss_box_reg: 0.2005 (0.2005)  loss_objectness: 0.0055 (0.0055)  loss_rpn_box_reg: 0.0474 (0.0474)  time: 1.3381  data: 0.8787  max mem: 3168\n",
      "Epoch: [13]  [120/133]  eta: 0:00:06  lr: 0.000001  loss: 0.3290 (0.3318)  loss_classifier: 0.0974 (0.1070)  loss_box_reg: 0.2010 (0.1984)  loss_objectness: 0.0033 (0.0089)  loss_rpn_box_reg: 0.0134 (0.0175)  time: 0.4825  data: 0.0082  max mem: 3168\n",
      "Epoch: [13]  [132/133]  eta: 0:00:00  lr: 0.000001  loss: 0.2666 (0.3418)  loss_classifier: 0.0967 (0.1100)  loss_box_reg: 0.1471 (0.2040)  loss_objectness: 0.0033 (0.0091)  loss_rpn_box_reg: 0.0088 (0.0186)  time: 0.4684  data: 0.0081  max mem: 3168\n",
      "Epoch: [13] Total time: 0:01:04 (0.4848 s / it)\n",
      "creating index...\n",
      "index created!\n",
      "Test:  [ 0/59]  eta: 0:00:28  model_time: 0.1487 (0.1487)  evaluator_time: 0.1011 (0.1011)  time: 0.4767  data: 0.2241  max mem: 3168\n",
      "Test:  [58/59]  eta: 0:00:00  model_time: 0.0956 (0.0978)  evaluator_time: 0.0019 (0.0074)  time: 0.1084  data: 0.0045  max mem: 3168\n",
      "Test: Total time: 0:00:06 (0.1163 s / it)\n",
      "Averaged stats: model_time: 0.0956 (0.0978)  evaluator_time: 0.0019 (0.0074)\n",
      "Accumulating evaluation results...\n",
      "DONE (t=0.02s).\n",
      "IoU metric: bbox\n",
      " Average Precision  (AP) @[ IoU=0.50:0.95 | area=   all | maxDets=100 ] = 0.727\n",
      " Average Precision  (AP) @[ IoU=0.50      | area=   all | maxDets=100 ] = 0.941\n",
      " Average Precision  (AP) @[ IoU=0.75      | area=   all | maxDets=100 ] = 0.848\n",
      " Average Precision  (AP) @[ IoU=0.50:0.95 | area= small | maxDets=100 ] = 0.600\n",
      " Average Precision  (AP) @[ IoU=0.50:0.95 | area=medium | maxDets=100 ] = 0.541\n",
      " Average Precision  (AP) @[ IoU=0.50:0.95 | area= large | maxDets=100 ] = 0.770\n",
      " Average Recall     (AR) @[ IoU=0.50:0.95 | area=   all | maxDets=  1 ] = 0.090\n",
      " Average Recall     (AR) @[ IoU=0.50:0.95 | area=   all | maxDets= 10 ] = 0.461\n",
      " Average Recall     (AR) @[ IoU=0.50:0.95 | area=   all | maxDets=100 ] = 0.764\n",
      " Average Recall     (AR) @[ IoU=0.50:0.95 | area= small | maxDets=100 ] = 0.600\n",
      " Average Recall     (AR) @[ IoU=0.50:0.95 | area=medium | maxDets=100 ] = 0.618\n",
      " Average Recall     (AR) @[ IoU=0.50:0.95 | area= large | maxDets=100 ] = 0.801\n",
      "current patience: 10 current loss:  0.2666 best loss:  0.2383\n",
      "Epoch: [14]  [  0/133]  eta: 0:02:20  lr: 0.000001  loss: 0.3600 (0.3600)  loss_classifier: 0.1196 (0.1196)  loss_box_reg: 0.2327 (0.2327)  loss_objectness: 0.0036 (0.0036)  loss_rpn_box_reg: 0.0041 (0.0041)  time: 1.0548  data: 0.5992  max mem: 3168\n",
      "Epoch: [14]  [120/133]  eta: 0:00:06  lr: 0.000001  loss: 0.2713 (0.3293)  loss_classifier: 0.0894 (0.1091)  loss_box_reg: 0.1669 (0.1946)  loss_objectness: 0.0035 (0.0083)  loss_rpn_box_reg: 0.0111 (0.0173)  time: 0.4834  data: 0.0084  max mem: 3168\n",
      "Epoch: [14]  [132/133]  eta: 0:00:00  lr: 0.000001  loss: 0.3034 (0.3321)  loss_classifier: 0.0962 (0.1095)  loss_box_reg: 0.1786 (0.1961)  loss_objectness: 0.0048 (0.0083)  loss_rpn_box_reg: 0.0134 (0.0182)  time: 0.4745  data: 0.0092  max mem: 3168\n",
      "Epoch: [14] Total time: 0:01:04 (0.4829 s / it)\n",
      "creating index...\n",
      "index created!\n",
      "Test:  [ 0/59]  eta: 0:00:29  model_time: 0.1524 (0.1524)  evaluator_time: 0.0955 (0.0955)  time: 0.4946  data: 0.2443  max mem: 3168\n",
      "Test:  [58/59]  eta: 0:00:00  model_time: 0.0962 (0.0975)  evaluator_time: 0.0019 (0.0074)  time: 0.1091  data: 0.0052  max mem: 3168\n",
      "Test: Total time: 0:00:06 (0.1166 s / it)\n",
      "Averaged stats: model_time: 0.0962 (0.0975)  evaluator_time: 0.0019 (0.0074)\n",
      "Accumulating evaluation results...\n",
      "DONE (t=0.02s).\n",
      "IoU metric: bbox\n",
      " Average Precision  (AP) @[ IoU=0.50:0.95 | area=   all | maxDets=100 ] = 0.726\n",
      " Average Precision  (AP) @[ IoU=0.50      | area=   all | maxDets=100 ] = 0.941\n",
      " Average Precision  (AP) @[ IoU=0.75      | area=   all | maxDets=100 ] = 0.848\n",
      " Average Precision  (AP) @[ IoU=0.50:0.95 | area= small | maxDets=100 ] = 0.600\n",
      " Average Precision  (AP) @[ IoU=0.50:0.95 | area=medium | maxDets=100 ] = 0.541\n",
      " Average Precision  (AP) @[ IoU=0.50:0.95 | area= large | maxDets=100 ] = 0.769\n",
      " Average Recall     (AR) @[ IoU=0.50:0.95 | area=   all | maxDets=  1 ] = 0.090\n",
      " Average Recall     (AR) @[ IoU=0.50:0.95 | area=   all | maxDets= 10 ] = 0.461\n",
      " Average Recall     (AR) @[ IoU=0.50:0.95 | area=   all | maxDets=100 ] = 0.764\n",
      " Average Recall     (AR) @[ IoU=0.50:0.95 | area= small | maxDets=100 ] = 0.600\n",
      " Average Recall     (AR) @[ IoU=0.50:0.95 | area=medium | maxDets=100 ] = 0.618\n",
      " Average Recall     (AR) @[ IoU=0.50:0.95 | area= large | maxDets=100 ] = 0.801\n",
      "current patience: 9 current loss:  0.3034 best loss:  0.2383\n",
      "Epoch: [15]  [  0/133]  eta: 0:02:16  lr: 0.000000  loss: 0.7094 (0.7094)  loss_classifier: 0.2232 (0.2232)  loss_box_reg: 0.4117 (0.4117)  loss_objectness: 0.0265 (0.0265)  loss_rpn_box_reg: 0.0480 (0.0480)  time: 1.0278  data: 0.5752  max mem: 3168\n",
      "Epoch: [15]  [120/133]  eta: 0:00:06  lr: 0.000000  loss: 0.2978 (0.3111)  loss_classifier: 0.0902 (0.1024)  loss_box_reg: 0.1657 (0.1834)  loss_objectness: 0.0059 (0.0082)  loss_rpn_box_reg: 0.0108 (0.0171)  time: 0.4894  data: 0.0088  max mem: 3168\n",
      "Epoch: [15]  [132/133]  eta: 0:00:00  lr: 0.000000  loss: 0.2423 (0.3076)  loss_classifier: 0.0867 (0.1014)  loss_box_reg: 0.1574 (0.1815)  loss_objectness: 0.0042 (0.0081)  loss_rpn_box_reg: 0.0066 (0.0165)  time: 0.4677  data: 0.0082  max mem: 3168\n",
      "Epoch: [15] Total time: 0:01:04 (0.4825 s / it)\n",
      "creating index...\n",
      "index created!\n",
      "Test:  [ 0/59]  eta: 0:00:27  model_time: 0.1510 (0.1510)  evaluator_time: 0.1004 (0.1004)  time: 0.4606  data: 0.2065  max mem: 3168\n",
      "Test:  [58/59]  eta: 0:00:00  model_time: 0.0965 (0.0981)  evaluator_time: 0.0018 (0.0073)  time: 0.1086  data: 0.0044  max mem: 3168\n",
      "Test: Total time: 0:00:06 (0.1162 s / it)\n",
      "Averaged stats: model_time: 0.0965 (0.0981)  evaluator_time: 0.0018 (0.0073)\n",
      "Accumulating evaluation results...\n",
      "DONE (t=0.02s).\n",
      "IoU metric: bbox\n",
      " Average Precision  (AP) @[ IoU=0.50:0.95 | area=   all | maxDets=100 ] = 0.726\n",
      " Average Precision  (AP) @[ IoU=0.50      | area=   all | maxDets=100 ] = 0.941\n",
      " Average Precision  (AP) @[ IoU=0.75      | area=   all | maxDets=100 ] = 0.848\n",
      " Average Precision  (AP) @[ IoU=0.50:0.95 | area= small | maxDets=100 ] = 0.600\n",
      " Average Precision  (AP) @[ IoU=0.50:0.95 | area=medium | maxDets=100 ] = 0.541\n",
      " Average Precision  (AP) @[ IoU=0.50:0.95 | area= large | maxDets=100 ] = 0.769\n",
      " Average Recall     (AR) @[ IoU=0.50:0.95 | area=   all | maxDets=  1 ] = 0.090\n",
      " Average Recall     (AR) @[ IoU=0.50:0.95 | area=   all | maxDets= 10 ] = 0.461\n",
      " Average Recall     (AR) @[ IoU=0.50:0.95 | area=   all | maxDets=100 ] = 0.764\n",
      " Average Recall     (AR) @[ IoU=0.50:0.95 | area= small | maxDets=100 ] = 0.600\n",
      " Average Recall     (AR) @[ IoU=0.50:0.95 | area=medium | maxDets=100 ] = 0.618\n",
      " Average Recall     (AR) @[ IoU=0.50:0.95 | area= large | maxDets=100 ] = 0.801\n",
      "current patience: 8 current loss:  0.2423 best loss:  0.2383\n",
      "early stop at epoch 15 due to no loss improve for 20 epochs\n"
     ]
    }
   ],
   "source": [
    "# Create directory if not exist\n",
    "os.makedirs(model_save_path, exist_ok=True)\n",
    "\n",
    "# start training\n",
    "training(detection_model, data_loader_train, data_loader_test, epochs=wandb.config.epochs)"
   ]
  },
  {
   "cell_type": "markdown",
   "id": "fba4d6e0",
   "metadata": {},
   "source": [
    "## SAVE MODEL"
   ]
  },
  {
   "cell_type": "code",
   "execution_count": 61,
   "id": "324a0f2d",
   "metadata": {
    "gather": {
     "logged": 1703031276548
    }
   },
   "outputs": [],
   "source": [
    "# Save model (parameters only)\n",
    "# torch.save(detection_model.state_dict(), model_save_name+'_last.pt')"
   ]
  },
  {
   "cell_type": "code",
   "execution_count": null,
   "id": "6b7b68da-094e-46c1-8870-3576f76f7862",
   "metadata": {
    "collapsed": false,
    "jupyter": {
     "outputs_hidden": false
    },
    "nteract": {
     "transient": {
      "deleting": false
     }
    }
   },
   "outputs": [],
   "source": []
  }
 ],
 "metadata": {
  "kernel_info": {
   "name": "python38-azureml-pt-tf"
  },
  "kernelspec": {
   "display_name": "Python 3.8 - Pytorch and Tensorflow",
   "language": "python",
   "name": "python38-azureml-pt-tf"
  },
  "language_info": {
   "codemirror_mode": {
    "name": "ipython",
    "version": 3
   },
   "file_extension": ".py",
   "mimetype": "text/x-python",
   "name": "python",
   "nbconvert_exporter": "python",
   "pygments_lexer": "ipython3",
   "version": "3.8.5"
  },
  "microsoft": {
   "host": {
    "AzureML": {
     "notebookHasBeenCompleted": true
    }
   },
   "ms_spell_check": {
    "ms_spell_check_language": "en"
   }
  },
  "nteract": {
   "version": "nteract-front-end@1.0.0"
  }
 },
 "nbformat": 4,
 "nbformat_minor": 5
}
